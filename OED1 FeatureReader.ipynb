{
 "cells": [
  {
   "cell_type": "code",
   "execution_count": null,
   "metadata": {},
   "outputs": [],
   "source": [
    "from htrc_features import FeatureReader\n",
    "#vol = FeatureReader(ids=['osu.32435030881106']).first()          #importing volume (Johnson, 4th ed., vol2)\n",
    "vol = FeatureReader(ids=['mdp.39015012333913']).first()          #importing volume (OED1, v.1 A-B)\n",
    "vol"
   ]
  },
  {
   "cell_type": "code",
   "execution_count": null,
   "metadata": {},
   "outputs": [],
   "source": [
    "#displays table of tokens containing the defined string\n",
    "\n",
    "tl = vol.tokenlist(section='all')\n",
    "token_idx = tl.index.get_level_values(\"token\")\n",
    "author_pages = tl[token_idx.str.contains('Shak')]            #defined string\n",
    "author_pages"
   ]
  },
  {
   "cell_type": "code",
   "execution_count": null,
   "metadata": {},
   "outputs": [],
   "source": [
    "#displays graph of token occurences in text, based on above cell\n",
    "\n",
    "# Get just the page numbers from the search for author name (defined above)\n",
    "page_numbers = author_pages.index.get_level_values('page')\n",
    "\n",
    "# Visualize the tokens-per-page from before\n",
    "tokens.plot()\n",
    "\n",
    "# Add vertical lines for pages with author name (defined above)\n",
    "import matplotlib.pyplot as plt\n",
    "for page_number in page_numbers:\n",
    "    plt.axvline(x=page_number, color='red')"
   ]
  },
  {
   "cell_type": "code",
   "execution_count": null,
   "metadata": {},
   "outputs": [],
   "source": [
    "#display table of NNP-labeled strings, ordered by count, descending\n",
    "\n",
    "tl = vol.tokenlist(pages=False)\n",
    "just_nouns = tl.loc[(slice(None), slice(None), [\"NNP\"]),]\n",
    "top_nouns = just_nouns.sort_values('count', ascending=False)\n",
    "top_nouns.head(100)                                                      #number of lines in the resulting table"
   ]
  },
  {
   "cell_type": "code",
   "execution_count": null,
   "metadata": {},
   "outputs": [],
   "source": [
    "#displays table of tokens with a POS on a particular page\n",
    "\n",
    "tl = vol.tokenlist(section='all')\n",
    "page_tokens = tl.loc[([508], slice(None), slice(None), 'NNP'),]             #page, section, token, pos, count\n",
    "page_tokens"
   ]
  }
 ],
 "metadata": {
  "kernelspec": {
   "display_name": "Python 3",
   "language": "python",
   "name": "python3"
  },
  "language_info": {
   "codemirror_mode": {
    "name": "ipython",
    "version": 3
   },
   "file_extension": ".py",
   "mimetype": "text/x-python",
   "name": "python",
   "nbconvert_exporter": "python",
   "pygments_lexer": "ipython3",
   "version": "3.7.1"
  }
 },
 "nbformat": 4,
 "nbformat_minor": 2
}
