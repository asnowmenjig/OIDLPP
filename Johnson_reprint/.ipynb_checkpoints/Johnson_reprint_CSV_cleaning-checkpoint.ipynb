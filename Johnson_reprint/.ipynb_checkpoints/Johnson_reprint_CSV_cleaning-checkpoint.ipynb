{
 "cells": [
  {
   "cell_type": "code",
   "execution_count": null,
   "metadata": {},
   "outputs": [],
   "source": [
    "take CSV file (format: name, string)\n",
    "\n",
    "\n",
    "import csv\n",
    "\n",
    "with open(\"Letter_\" + str(chr(alpha_sect)) + \"_counts_V5.csv\", 'r', ) as infile_csv:\n",
    "    filereader = csv.reader(infile_csv, delimeter=\",\")\n",
    "    for pair in filereader:\n",
    "        \n",
    "\n",
    "\n",
    "\n",
    "\n",
    "\n",
    "\n",
    "        with open(\"Letter_\" + str(chr(alpha_sect)) + \"_counts_V5.csv\", 'w', newline = '', encoding=\"UTF-8\") as outfile_csv:\n",
    "            filewriter = csv.writer(outfile_csv, delimiter=',')\n",
    "            for pair in alpha_dictionary[chr(alpha_sect)]:\n",
    "                citation_string = pair[0]\n",
    "                label = pair[1]\n",
    "                row = [label, citation_string]\n",
    "                filewriter.writerow(row)\n",
    "\n",
    "\n",
    "\n",
    "def author_positive(line):\n",
    "    "
   ]
  }
 ],
 "metadata": {
  "kernelspec": {
   "display_name": "Python 3",
   "language": "python",
   "name": "python3"
  },
  "language_info": {
   "codemirror_mode": {
    "name": "ipython",
    "version": 3
   },
   "file_extension": ".py",
   "mimetype": "text/x-python",
   "name": "python",
   "nbconvert_exporter": "python",
   "pygments_lexer": "ipython3",
   "version": "3.7.1"
  }
 },
 "nbformat": 4,
 "nbformat_minor": 2
}
