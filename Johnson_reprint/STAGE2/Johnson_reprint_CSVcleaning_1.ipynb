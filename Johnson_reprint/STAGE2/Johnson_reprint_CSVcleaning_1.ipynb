{
 "cells": [
  {
   "cell_type": "code",
   "execution_count": null,
   "metadata": {},
   "outputs": [],
   "source": [
    "#This program further separates obvious Dryden false positives from the initial group of Letter_*_review.csv files\n",
    "\n",
    "#important stuff\n",
    "#\n",
    "import csv\n",
    "import re\n",
    "import glob\n",
    "#\n",
    "csv_list = glob.glob('Letter_*_review.csv')\n",
    "alpha_sect = 65\n",
    "#"
   ]
  },
  {
   "cell_type": "code",
   "execution_count": null,
   "metadata": {},
   "outputs": [],
   "source": [
    "#defining author functions\n",
    "#\n",
    "print(\"Defining author functions...\")\n",
    "#\n",
    "def shakespeare_confirmation(x_line):\n",
    "    with open(\"Letter_\" + str(chr(alpha_sect)) + \"_review_1.csv\", 'a', newline = '', encoding=\"UTF-8\") as review_1_csv:\n",
    "        review_1_filewriter = csv.writer(review_1_csv, delimiter=',')\n",
    "        row = [\"Shakespeare\", x_line]\n",
    "        review_1_filewriter.writerow(row)\n",
    "#\n",
    "def spenser_confirmation(x_line):\n",
    "    with open(\"Letter_\" + str(chr(alpha_sect)) + \"_review_1.csv\", 'a', newline = '', encoding=\"UTF-8\") as review_1_csv:\n",
    "        review_1_filewriter = csv.writer(review_1_csv, delimiter=',')\n",
    "        row = [\"Spenser\", x_line]\n",
    "        review_1_filewriter.writerow(row)\n",
    "#\n",
    "def dryden_confirmation(x_line):\n",
    "    if re.findall('ry[^d]', x_line):   #regex for obviously incorrect drydens\n",
    "        with open(\"Dryden_duds.csv\", 'a', newline = '', encoding=\"UTF-8\") as dryden_dud_csv:\n",
    "            dryden_dud_filewriter = csv.writer(dryden_dud_csv, delimiter=',')\n",
    "            row = [\"Dryden\", x_line]\n",
    "            dryden_dud_filewriter.writerow(row)\n",
    "    else:\n",
    "        with open(\"Letter_\" + str(chr(alpha_sect)) + \"_review_1.csv\", 'a', newline = '', encoding=\"UTF-8\") as review_1_csv:\n",
    "            review_1_filewriter = csv.writer(review_1_csv, delimiter=',')\n",
    "            row = [\"Dryden\", x_line]\n",
    "            review_1_filewriter.writerow(row)\n",
    "#\n",
    "print(\"Success: defined author functions!\")\n",
    "#"
   ]
  },
  {
   "cell_type": "code",
   "execution_count": null,
   "metadata": {},
   "outputs": [],
   "source": [
    "index_value = 0\n",
    "#\n",
    "print(\"Beginning data collection...\")\n",
    "#\n",
    "for csv_list[index_value] in csv_list:\n",
    "    print(\"Evaluating \" + str(csv_list[index_value]) + \"...\")\n",
    "    with open(csv_list[index_value], 'r') as infile_csv:\n",
    "        filereader = csv.reader(infile_csv, delimiter=',')\n",
    "#\n",
    "        for row in filereader:\n",
    "            print(row)\n",
    "#\n",
    "            if \"csv_end\" in row[0]:\n",
    "                print(\"Success: done evaluating \" + str(csv_list[index_value]) + \"!\")\n",
    "                if alpha_sect == 75 or alpha_sect == 85:\n",
    "                    alpha_sect = alpha_sect +2\n",
    "                else:\n",
    "                    alpha_sect = alpha_sect + 1\n",
    "\n",
    "                index_value = index_value + 1\n",
    "#\n",
    "            else:\n",
    "                print(row[0])\n",
    "                if \"Shakespeare\" in row[0]:\n",
    "                    shakespeare_confirmation(row[1])\n",
    "                elif \"Spenser\" in row[0]:\n",
    "                    spenser_confirmation(row[1])\n",
    "                elif \"Dryden\" in row[0]:\n",
    "                    dryden_confirmation(row[1])\n",
    "#\n",
    "print(\"Success: data collected!\")\n",
    "#"
   ]
  },
  {
   "cell_type": "code",
   "execution_count": null,
   "metadata": {},
   "outputs": [],
   "source": [
    "print(\"Closing files..\")\n",
    "infile_csv.close()\n",
    "review_1_csv.close()\n",
    "dryden_dud_csv.close()\n",
    "print(\"Success: files closed!\")\n",
    "#\n",
    "print(\"Congrats! The program didn't fail! Check your folder to see your results!\")\n",
    "#"
   ]
  }
 ],
 "metadata": {
  "kernelspec": {
   "display_name": "Python 3",
   "language": "python",
   "name": "python3"
  },
  "language_info": {
   "codemirror_mode": {
    "name": "ipython",
    "version": 3
   },
   "file_extension": ".py",
   "mimetype": "text/x-python",
   "name": "python",
   "nbconvert_exporter": "python",
   "pygments_lexer": "ipython3",
   "version": "3.7.1"
  }
 },
 "nbformat": 4,
 "nbformat_minor": 2
}
