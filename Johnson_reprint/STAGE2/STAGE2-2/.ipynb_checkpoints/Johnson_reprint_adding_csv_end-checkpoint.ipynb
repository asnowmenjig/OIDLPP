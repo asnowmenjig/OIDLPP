{
 "cells": [
  {
   "cell_type": "code",
   "execution_count": null,
   "metadata": {},
   "outputs": [],
   "source": [
    "#important stuff\n",
    "import glob\n",
    "import csv\n",
    "#\n",
    "print(\"Adding csv_end to _positive_3.csv and _review_3.csv files...\")\n",
    "#\n",
    "positive_csv = glob.glob('Letter_*_positive_3.csv')\n",
    "positive_csv.sort()\n",
    "print(positive_csv)\n",
    "#\n",
    "positive_index = 0\n",
    "positive_alpha_sect = 65\n",
    "#\n",
    "review_csv = glob.glob('Letter_*_review_3.csv')\n",
    "review_csv.sort()\n",
    "print(review_csv)\n",
    "#\n",
    "review_index = 0\n",
    "review_alpha_sect = 65\n",
    "#\n",
    "for positive_csv[positive_index] in positive_csv:\n",
    "    print(\"Writing csv_end to Letter_\" + str(chr(positive_alpha_sect)) + \"_positive_3.csv\")\n",
    "    with open(\"Letter_\" + str(chr(positive_alpha_sect)) + \"_positive_3.csv\", 'a', newline = '', encoding=\"UTF-8\") as positive_csv:\n",
    "        positive_filewriter = csv.writer(positive_csv, delimiter=',')\n",
    "        row = [\"csv_end\", \"csv_end\"]\n",
    "        positive_filewriter.writerow(row)\n",
    "#\n",
    "        if positive_alpha_sect == 73 or positive_alpha_sect == 85:\n",
    "            positive_alpha_sect = positive_alpha_sect +2\n",
    "        else:\n",
    "            positive_alpha_sect = positive_alpha_sect + 1\n",
    "#\n",
    "        positive_index = positive_index + 1\n",
    "\n",
    "for review_csv[review_index] in review_csv:\n",
    "    print(\"Writing csv_end to Letter_\" + str(chr(review_alpha_sect)) + \"_review_3.csv\")\n",
    "    with open(\"Letter_\" + str(chr(review_alpha_sect)) + \"_review_3.csv\", 'a', newline = '', encoding=\"UTF-8\") as review_csv:\n",
    "        review_filewriter = csv.writer(review_csv, delimiter=',')\n",
    "        row = [\"csv_end\", \"csv_end\"]\n",
    "        review_filewriter.writerow(row)\n",
    "#\n",
    "        if review_alpha_sect == 73 or review_alpha_sect == 85:\n",
    "            review_alpha_sect = review_alpha_sect +2\n",
    "        else:\n",
    "            review_alpha_sect = review_alpha_sect + 1\n",
    "#\n",
    "        review_index = review_index + 1\n",
    "#\n",
    "print(\"Success: csv_end added to _positive_3.csv and _review_3.csv files!\")\n",
    "#"
   ]
  }
 ],
 "metadata": {
  "kernelspec": {
   "display_name": "Python 3",
   "language": "python",
   "name": "python3"
  },
  "language_info": {
   "codemirror_mode": {
    "name": "ipython",
    "version": 3
   },
   "file_extension": ".py",
   "mimetype": "text/x-python",
   "name": "python",
   "nbconvert_exporter": "python",
   "pygments_lexer": "ipython3",
   "version": "3.7.1"
  }
 },
 "nbformat": 4,
 "nbformat_minor": 2
}
