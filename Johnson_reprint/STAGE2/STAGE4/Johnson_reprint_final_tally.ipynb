{
 "cells": [
  {
   "cell_type": "code",
   "execution_count": null,
   "metadata": {},
   "outputs": [],
   "source": [
    "print(\"Creating Johnson_reprint_final_tally.txt...\")\n",
    "outfile_final_tally = open(\"Johnson_reprint_final_tally.txt\", 'w', encoding=\"UTF-8\")\n",
    "print(\"Success: created Johnson_reprint_final_tally.txt!\")"
   ]
  },
  {
   "cell_type": "code",
   "execution_count": null,
   "metadata": {},
   "outputs": [],
   "source": [
    "print(\"Counting batch 1...\")\n",
    "\n",
    "\n",
    "for confirmed_1[index_1] in confirmed_1:\n",
    "    print(\"Evaluating \" + str(confirmed_1[index_1]) + \"...\")\n",
    "    with open(confirmed_1[index_1], 'r') as infile_csv:\n",
    "        filereader = csv.reader(infile_csv, delimiter=',')\n",
    "        for row in filereader:\n",
    "            if \"csv_end\" in row[0]:\n",
    "                print(\"Success: done evaluating \" + str(reviewed_csv[reviewed_index]) + \"!\")\n",
    "                print(\"Data written to Letter_\" + str(chr(reviewed_alpha_sect)) + \"_confirmed_3.csv file!\")\n",
    "                \n",
    "                if reviewed_alpha_sect == 73 or reviewed_alpha_sect == 85:\n",
    "                    reviewed_alpha_sect = reviewed_alpha_sect +2\n",
    "                else:\n",
    "                    reviewed_alpha_sect = reviewed_alpha_sect + 1\n",
    "                reviewed_index = reviewed_index + 1\n",
    "            \n",
    "            \n",
    "            \n",
    "            \n",
    "            \n",
    "            if \"Shakespeare\" in row[0]:\n",
    "                shakespeare_count = shakespeare_count + 1\n",
    "            elif \"Spenser\" in row[0]:\n",
    "                spenser_count = spenser_count + 1\n",
    "            elif \"Sidney\" in row[0]:\n",
    "                sidney_count = sidney_count + 1\n",
    "            elif \"L\\'Estrange\" in row[0]:\n",
    "                lestrange_count = lestrange_count + 1\n",
    "            elif \"Dryden\" in row[0]:\n",
    "                dryden_count = dryden_count + 1\n",
    "            elif \"Locke\" in row[0]:\n",
    "                locke_count = locke_count + 1\n",
    "            elif \"Prior\" in row[0]:\n",
    "                prior_count = prior_count + 1\n",
    "            elif \"Swift\" in row[0]:\n",
    "                swift_count = swift_count + 1\n",
    "            elif \"Addison\" in row[0]:\n",
    "                addison_count = addison_count + 1\n",
    "            elif \"Pope\" in row[0]:\n",
    "                pope_count = pope_count + 1\n",
    "                \n",
    "                \n",
    "                with open(\"Letter_\" + str(chr(reviewed_alpha_sect)) + \"_confirmed_3.csv\", 'a', newline = '', encoding=\"UTF-8\") as confirmed_csv:\n",
    "                \n",
    "                \n",
    "                \n",
    "                \n",
    "                    with open(\"Letter_\" + str(chr(reviewed_alpha_sect)) + \"_confirmed_3.csv\", 'a', newline = '', encoding=\"UTF-8\") as confirmed_csv:\n",
    "                        confirmed_filewriter = csv.writer(confirmed_csv, delimiter=',')\n",
    "                        row = [row[0], row[1]]\n",
    "                        confirmed_filewriter.writerow(row)"
   ]
  }
 ],
 "metadata": {
  "kernelspec": {
   "display_name": "Python 3",
   "language": "python",
   "name": "python3"
  },
  "language_info": {
   "codemirror_mode": {
    "name": "ipython",
    "version": 3
   },
   "file_extension": ".py",
   "mimetype": "text/x-python",
   "name": "python",
   "nbconvert_exporter": "python",
   "pygments_lexer": "ipython3",
   "version": "3.7.1"
  }
 },
 "nbformat": 4,
 "nbformat_minor": 2
}
