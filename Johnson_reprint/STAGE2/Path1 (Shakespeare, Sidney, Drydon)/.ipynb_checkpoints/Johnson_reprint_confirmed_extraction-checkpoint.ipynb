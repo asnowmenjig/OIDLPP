{
 "cells": [
  {
   "cell_type": "code",
   "execution_count": null,
   "metadata": {},
   "outputs": [],
   "source": [
    "#important stuff\n",
    "#\n",
    "import csv\n",
    "import re\n",
    "import glob\n",
    "#\n",
    "reviewed_csv = glob.glob('Letter_*_reviewed.csv')   # organizes reviewed_csv into alphabetical order\n",
    "reviewed_csv.sort()\n",
    "#\n",
    "positive_csv = glob.glob('Letter_*_positive.csv')\n",
    "positive_csv.sort()                                 # organizes positive_csv into alphabetical order\n",
    "#\n",
    "reviewed_alpha_sect = 65\n",
    "positive_alpha_sect = 65\n",
    "#\n",
    "reviewed_index = 0\n",
    "positive_index = 0\n",
    "#"
   ]
  },
  {
   "cell_type": "code",
   "execution_count": null,
   "metadata": {},
   "outputs": [],
   "source": [
    "print(\"Beginning _reviewed.csv data extraction...\")\n",
    "#\n",
    "for reviewed_file[reviewed_index] in reviewed_csv:\n",
    "    print(\"Evaluating \" + str(reviewed_file[reviewed_index]) + \"...\")\n",
    "    with open(reviewed_file[reviewed_index], 'r') as infile_csv:\n",
    "        filereader = csv.reader(infile_csv, delimiter=',')\n",
    "#\n",
    "        for row in filereader:\n",
    "#\n",
    "            if \"csv_end\" in row[0]:\n",
    "                print(\"Success: done evaluating \" + str(reviewed_file[reviewed_index]) + \"!\")\n",
    "                print(\"Data written to Letter_\" + str(chr(reviewed_alpha_sect)) + \"_confirmed.csv file!\")\n",
    "                \n",
    "                if reviewed_alpha_sect == 73 or reviewed_alpha_sect == 85:\n",
    "                    reviewed_alpha_sect = reviewed_alpha_sect +2\n",
    "                else:\n",
    "                    reviewed_alpha_sect = reviewed_alpha_sect + 1\n",
    "                reviewed_index = reviewed_index + 1\n",
    "#\n",
    "            else:\n",
    "                if \"true\" in row[2]:\n",
    "                    with open(\"Letter_\" + str(chr(reviewed_alpha_sect)) + \"_confirmed.csv\", 'a', newline = '', encoding=\"UTF-8\") as confirmed_csv:\n",
    "                        confirmed_filewriter = csv.writer(confirmed_csv, delimiter=',')\n",
    "                        row = [row[0], row[1]]\n",
    "                        confirmed_filewriter.writerow(row)\n",
    "                elif \"maybe\" in row[2]:\n",
    "                    with open(\"Letter_\" + str(chr(reviewed_alpha_sect)) + \"_maybe.csv\", 'a', newline = '', encoding=\"UTF-8\") as maybe_csv:\n",
    "                        maybe_filewriter = csv.writer(maybe_csv, delimiter=',')\n",
    "                        row = [row[0], row[1]]\n",
    "                        maybe_filewriter.writerow(row)\n",
    "#\n",
    "print(\"Success: _reviewed.csv data written!\")\n",
    "#"
   ]
  },
  {
   "cell_type": "code",
   "execution_count": null,
   "metadata": {},
   "outputs": [],
   "source": [
    "print(\"Beginning _positive.csv data extraction...\")\n",
    "#\n",
    "for positive_file[positive_index] in positive_csv:\n",
    "    print(\"Evaluating \" + str(positive_file[positive_index]) + \"...\")\n",
    "    with open(positive_file[positive_index], 'r') as infile_csv:\n",
    "        filereader = csv.reader(infile_csv, delimiter=',')\n",
    "#\n",
    "        for row in filereader:\n",
    "#\n",
    "            if \"csv_end\" in row[0]:\n",
    "                print(\"Success: done evaluating \" + str(positive_file[positive_index]) + \"!\")\n",
    "                print(\"Data written to Letter_\" + str(chr(positive_alpha_sect)) + \"_confirmed.csv file!\")\n",
    "                \n",
    "                if positive_alpha_sect == 73 or positive_alpha_sect == 85:\n",
    "                    positive_alpha_sect = positive_alpha_sect +2\n",
    "                else:\n",
    "                    positive_alpha_sect = positive_alpha_sect + 1\n",
    "                positive_index = positive_index + 1\n",
    "#\n",
    "            else:\n",
    "                with open(\"Letter_\" + str(chr(positive_alpha_sect)) + \"_confirmed.csv\", 'a', newline = '', encoding=\"UTF-8\") as confirmed_csv:\n",
    "                    confirmed_filewriter = csv.writer(confirmed_csv, delimiter=',')\n",
    "                    row = [row[0], row[1]]\n",
    "                    confirmed_filewriter.writerow(row)\n",
    "#\n",
    "print(\"Success: _positive.csv data written!\")\n",
    "#"
   ]
  },
  {
   "cell_type": "code",
   "execution_count": null,
   "metadata": {},
   "outputs": [],
   "source": [
    "print(\"Closing files..\")\n",
    "confirmed_csv.close()\n",
    "print(\"Success: files closed!\")\n",
    "#\n",
    "print(\"Congrats! The program didn't fail! Check your folder to see your results!\")\n",
    "#"
   ]
  }
 ],
 "metadata": {
  "kernelspec": {
   "display_name": "Python 3",
   "language": "python",
   "name": "python3"
  },
  "language_info": {
   "codemirror_mode": {
    "name": "ipython",
    "version": 3
   },
   "file_extension": ".py",
   "mimetype": "text/x-python",
   "name": "python",
   "nbconvert_exporter": "python",
   "pygments_lexer": "ipython3",
   "version": "3.7.1"
  }
 },
 "nbformat": 4,
 "nbformat_minor": 2
}
