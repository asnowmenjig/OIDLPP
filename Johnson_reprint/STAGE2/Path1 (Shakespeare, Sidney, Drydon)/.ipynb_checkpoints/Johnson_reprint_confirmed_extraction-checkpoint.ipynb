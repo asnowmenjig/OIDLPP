{
 "cells": [
  {
   "cell_type": "code",
   "execution_count": null,
   "metadata": {},
   "outputs": [],
   "source": [
    "## CONFIRMED WORKS, program for parsing through Letter_*_review.csv files and\n",
    "#                   classifying rows into confirmed, negative, or maybe.csv files\n",
    "\n",
    "with open(\"quote_comma_reviewed.csv\") as infile_csv:\n",
    "    filereader = csv.reader(infile_csv, delimiter=',')\n",
    "    for row in filereader:\n",
    "        if \"true\" in row[2]:                                               #access third column\n",
    "            with open(\"quote_comma_confirmed.csv\", 'a', newline = '', encoding=\"UTF-8\") as confirmed_csv:\n",
    "                confirmed_filewriter = csv.writer(confirmed_csv, delimiter=',')\n",
    "                row = [row[0], row[1]]\n",
    "                confirmed_filewriter.writerow(row)\n",
    "        elif \"false\" in row[2]:\n",
    "            with open(\"quote_comma_negative.csv\", 'a', newline = '', encoding=\"UTF-8\") as negative_csv:\n",
    "                negative_filewriter = csv.writer(negative_csv, delimiter=',')\n",
    "                row = [row[0], row[1]]\n",
    "                negative_filewriter.writerow(row)\n",
    "        elif \"maybe\" in row[2]:\n",
    "            with open(\"quote_comma_maybe.csv\", 'a', newline = '', encoding=\"UTF-8\") as maybe_csv:\n",
    "                maybe_filewriter = csv.writer(maybe_csv, delimiter=',')\n",
    "                row = [row[0], row[1]]\n",
    "                maybe_filewriter.writerow(row)\n",
    "        elif #add csv_end transition\n",
    "\n",
    "\n",
    "## CONFIRMED WORKS, program for parsing through Letter_*_positive.csv files and\n",
    "#                   adding to confirmed.csv files\n",
    "\n",
    "with open(\"quote_comma_positive.csv\") as infile_csv:\n",
    "    filereader = csv.reader(infile_csv, delimiter=',')\n",
    "    for row in filereader:\n",
    "        with open(\"quote_comma_confirmed.csv\", 'a', newline = '', encoding=\"UTF-8\") as confirmed_csv:\n",
    "            confirmed_filewriter = csv.writer(confirmed_csv, delimiter=',')\n",
    "            row = [row[0], row[1]]\n",
    "            confirmed_filewriter.writerow(row)\n"
   ]
  }
 ],
 "metadata": {
  "kernelspec": {
   "display_name": "Python 3",
   "language": "python",
   "name": "python3"
  },
  "language_info": {
   "codemirror_mode": {
    "name": "ipython",
    "version": 3
   },
   "file_extension": ".py",
   "mimetype": "text/x-python",
   "name": "python",
   "nbconvert_exporter": "python",
   "pygments_lexer": "ipython3",
   "version": "3.7.1"
  }
 },
 "nbformat": 4,
 "nbformat_minor": 2
}
