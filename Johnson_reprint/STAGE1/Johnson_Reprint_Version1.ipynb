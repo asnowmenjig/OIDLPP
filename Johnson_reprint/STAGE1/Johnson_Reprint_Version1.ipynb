{
 "cells": [
  {
   "cell_type": "code",
   "execution_count": 15,
   "metadata": {},
   "outputs": [],
   "source": [
    "### PROCESS SUMMARY ###\n",
    "\n",
    "# for each alphabet section, loops through each line collecting:\n",
    "## counts for each author (including multiple authors in a line)\n",
    "\n",
    "# when detects 'alphasectend':\n",
    "## writes author counts to a text file\n",
    "## moves on to the next alphabet section"
   ]
  },
  {
   "cell_type": "code",
   "execution_count": 16,
   "metadata": {},
   "outputs": [],
   "source": [
    "## NOTES ON TEXT ##\n",
    "\n",
    "# lines 1-7348 (slice [0:7347]) are intro text (line 7348 is 'alphasectend' string for intro)\n",
    "\n",
    "# dictionary content begins on line 7349 (slice [7348:])"
   ]
  },
  {
   "cell_type": "code",
   "execution_count": 17,
   "metadata": {},
   "outputs": [],
   "source": [
    "#improved cleanline function                                 #from Johnson4_v1_split_alphasectend-retain-punct\n",
    "import string\n",
    "\n",
    "def clean_line(line_str):\n",
    "    cleanline = line_str.lower()\n",
    "    cleanline = cleanline.replace(\"°\", \"o\")\n",
    "    cleanline = cleanline.replace(\"º\", \"o\")\n",
    "    cleanline = cleanline.replace(\"×\", \"x\")\n",
    "    cleanline = cleanline.replace(\"à\", \"a\")\n",
    "    cleanline = cleanline.replace(\"á\", 'a')\n",
    "    cleanline = cleanline.replace('â', 'a')\n",
    "    cleanline = cleanline.replace('ä', 'a')\n",
    "    cleanline = cleanline.replace('ă', 'a')\n",
    "    cleanline = cleanline.replace('ã', 'a')\n",
    "    cleanline = cleanline.replace('å', 'a')\n",
    "    cleanline = cleanline.replace('ā', 'a')\n",
    "    cleanline = cleanline.replace('ą', 'a')\n",
    "    cleanline = cleanline.replace('ć', 'c')\n",
    "    cleanline = cleanline.replace('č', 'c')\n",
    "    cleanline = cleanline.replace('ç', 'c')\n",
    "    cleanline = cleanline.replace('è', 'e')\n",
    "    cleanline = cleanline.replace('é', 'e')\n",
    "    cleanline = cleanline.replace('ë', 'e')\n",
    "    cleanline = cleanline.replace('ē', 'e')\n",
    "    cleanline = cleanline.replace('ę', 'e')\n",
    "    cleanline = cleanline.replace('ê', 'e')\n",
    "    cleanline = cleanline.replace('ğ', 'g')\n",
    "    cleanline = cleanline.replace('í', 'i')\n",
    "    cleanline = cleanline.replace('ì', 'i')\n",
    "    cleanline = cleanline.replace('ń', 'n')\n",
    "    cleanline = cleanline.replace('ñ', 'n')\n",
    "    cleanline = cleanline.replace('ň', 'n')\n",
    "    cleanline = cleanline.replace('ó', 'o')\n",
    "    cleanline = cleanline.replace('ö', 'o')\n",
    "    cleanline = cleanline.replace('ð', 'o')\n",
    "    cleanline = cleanline.replace('ø', 'o')\n",
    "    cleanline = cleanline.replace('ò', 'o')\n",
    "    cleanline = cleanline.replace('ř', 'r')\n",
    "    cleanline = cleanline.replace('š', 's')\n",
    "    cleanline = cleanline.replace(\"ſ\", \"s\")\n",
    "    cleanline = cleanline.replace('ś', 's')\n",
    "    cleanline = cleanline.replace('ş', 's')\n",
    "    cleanline = cleanline.replace('ţ', 't')\n",
    "    cleanline = cleanline.replace('ü', 'u')\n",
    "    cleanline = cleanline.replace('ú', 'u')\n",
    "    cleanline = cleanline.replace('ū', 'u')\n",
    "    cleanline = cleanline.replace('ź', 'z')\n",
    "    cleanline = cleanline.replace('ż', 'z')\n",
    "    cleanline = cleanline.replace('ž', 'z')\n",
    "    return cleanline"
   ]
  },
  {
   "cell_type": "code",
   "execution_count": 18,
   "metadata": {},
   "outputs": [
    {
     "name": "stdout",
     "output_type": "stream",
     "text": [
      "success: split into lines\n"
     ]
    }
   ],
   "source": [
    "# open Johnson_reprint volume                                 #from Johnson4_v1_split_alphasectend-retain-punct\n",
    "infile = open('Johnson_reprint_test.txt','r', encoding='utf-8')\n",
    "text = str(infile.read())\n",
    "infile.close()\n",
    "\n",
    "# split into lines                                 #from Johnson4_v1_split_alphasectend-retain-punct\n",
    "lines_list = text.split('\\n')\n",
    "print(\"success: split into lines\")\n",
    "\n",
    "# clean lines and add cleaned lines to a list        #from Johnson4_v1_split_alphasectend-retain-punct\n",
    "cleaned_lines_list = []\n",
    "for line in lines_list:\n",
    "    cleaned_line = clean_line(line)\n",
    "    cleaned_lines_list.append(cleaned_line)\n",
    "\n",
    "# final product: cleaned_lines_list"
   ]
  },
  {
   "cell_type": "code",
   "execution_count": 19,
   "metadata": {},
   "outputs": [],
   "source": [
    "# lines_list = ['this line has a shakespeare citation.', 'this line has a shakespeare citation and a milton citation.', 'alphasectend', 'this line has no citations.', 'this line has a shakespeare citation and a shaks. citation.', 'this line has a milton citation, a locke citation, a dryden citation, and a milton citation', 'alphasectend']"
   ]
  },
  {
   "cell_type": "code",
   "execution_count": 20,
   "metadata": {},
   "outputs": [],
   "source": [
    "# # dictionary of two-item lists (for writing to a CSV):\n",
    "# # key = alphabet section     #value = empty list for author-string list pairs (list of two-item lists)\n",
    "# alpha_dictionary = {\"A\":[], \"B\":[]}\n",
    "\n",
    "# import csv"
   ]
  },
  {
   "cell_type": "code",
   "execution_count": 21,
   "metadata": {},
   "outputs": [],
   "source": [
    "# # dictionary of page numbers:\n",
    "# pages = 0\n",
    "# # key = alphabet section      #value = empty 'pages' variable\n",
    "# page_counter = {\"A\": pages, \"B\": pages, \"C\": pages, \"D\": pages, \"E\": pages, \"F\": pages, \"G\": pages, \"H\": pages, \"I\": pages, \"K\": pages}"
   ]
  },
  {
   "cell_type": "code",
   "execution_count": 22,
   "metadata": {},
   "outputs": [],
   "source": [
    "# define text outfile that will contain author citation counts\n",
    "outfile_total_count = open(\"Johnson_reprint_counts.txt\", 'w', encoding=\"UTF-8\")"
   ]
  },
  {
   "cell_type": "code",
   "execution_count": 23,
   "metadata": {},
   "outputs": [],
   "source": [
    "# define starting alpha_sect (\"A\")\n",
    "alpha_sect = 65"
   ]
  },
  {
   "cell_type": "code",
   "execution_count": 24,
   "metadata": {},
   "outputs": [],
   "source": [
    "# define regex pattern functions\n",
    "\n",
    "import re\n",
    "\n",
    "shak = re.compile('shak[^i]')\n",
    "milton = re.compile('mil.')\n",
    "locke = re.compile('loc.')\n",
    "dryden = re.compile('dry[^i]')"
   ]
  },
  {
   "cell_type": "code",
   "execution_count": 25,
   "metadata": {},
   "outputs": [],
   "source": [
    "# defining functions that add author-citation pairs to CSV\n",
    "\n",
    "# def finding_shakespeare(x_line):\n",
    "#     shak = re.compile('shak[^i]')\n",
    "#     shakespeare_appears = shak.findall(x_line)\n",
    "#     if shakespeare_appears:\n",
    "#         alpha_dictionary[chr(alpha_sect)].append([line, \"shakespeare\"])\n",
    "\n",
    "# def finding_milton(x_line):\n",
    "#     milton = re.compile('mil.')\n",
    "#     milton_appears = milton.findall(x_line)\n",
    "#     if milton_appears:\n",
    "#         alpha_dictionary[chr(alpha_sect)].append([line, \"milton\"])\n",
    "            \n",
    "# def finding_locke(x_line):\n",
    "#     locke = re.compile('loc.')\n",
    "#     locke_appears = locke.findall(x_line)\n",
    "#     if locke_appears:\n",
    "#         alpha_dictionary[chr(alpha_sect)].append([line, \"locke\"])\n",
    "\n",
    "# def finding_dryden(x_line):\n",
    "#     dryden = re.compile('dry[^i]')\n",
    "#     dryden_appears = dryden.findall(x_line)\n",
    "#     if dryden_appears:\n",
    "#         alpha_dictionary[chr(alpha_sect)].append([line, \"dryden\"])"
   ]
  },
  {
   "cell_type": "code",
   "execution_count": 26,
   "metadata": {},
   "outputs": [],
   "source": [
    "#define author count variables\n",
    "\n",
    "shakespeares = 0\n",
    "miltons = 0\n",
    "lockes = 0\n",
    "drydens = 0"
   ]
  },
  {
   "cell_type": "code",
   "execution_count": 27,
   "metadata": {},
   "outputs": [],
   "source": [
    "for line in cleaned_lines_list[7348:]:\n",
    "    if 'alphasectend' in line:     \n",
    "        # write dictionary contents to CSV                   ## CSV COUNT ##\n",
    "#         with open(\"Letter_\" + str(chr(alpha_sect)) + \"_counts.csv\", 'w', newline = '', encoding=\"UTF-8\") as outfile_csv:\n",
    "#             filewriter = csv.writer(outfile_csv, delimiter=',')\n",
    "#             for pair in alpha_dictionary[chr(alpha_sect)]:\n",
    "#                 citation_string = pair[0]\n",
    "#                 label = pair[1]\n",
    "#                 row = [label, citation_string]\n",
    "#                 filewriter.writerow(row)\n",
    "\n",
    "        # print count results to text file\n",
    "        section_header = (\"ALPHABET SECTION: \" + str(chr(alpha_sect)))\n",
    "#         page_counts_statement = (\"Page count = \" + str(page_counter[chr(alpha_sect)]))\n",
    "        shak_counts_statement = (\"Shakespeare citations = \" + str(shakespeares))\n",
    "        milton_counts_statement = (\"Milton citations = \" + str(miltons))\n",
    "        locke_counts_statement = (\"Locke citations = \" + str(lockes))\n",
    "        dryden_counts_statement = (\"Dryden citations = \" + str(drydens))\n",
    "        section_border = (\"- - - - - - - - - - - - -\")\n",
    "        \n",
    "        print(section_header, file=outfile_total_count)\n",
    "#         print(page_counts_statement, file=outfile_total_count)\n",
    "        print(shak_counts_statement, file=outfile_total_count)\n",
    "        print(milton_counts_statement, file=outfile_total_count)\n",
    "        print(locke_counts_statement, file=outfile_total_count)\n",
    "        print(dryden_counts_statement, file=outfile_total_count)\n",
    "        print(section_border, file=outfile_total_count)\n",
    "            \n",
    "        # redefine alpha section\n",
    "        if alpha_sect == 73 or alpha_sect == 85:\n",
    "            alpha_sect = alpha_sect + 2\n",
    "        else:\n",
    "            alpha_sect = alpha_sect + 1\n",
    "        \n",
    "        # reset citation counts\n",
    "        shakespeares = 0\n",
    "        miltons = 0\n",
    "        lockes = 0\n",
    "        drydens = 0\n",
    "        \n",
    "#     # adding to page count\n",
    "#     elif 'div class=\"page\"' in line:\n",
    "#         page_counter[chr(alpha_sect)] = page_counter[chr(alpha_sect)] + 1\n",
    "        \n",
    "    else:\n",
    "        # counting occurrences of author citations\n",
    "        shakespeares = len(shak.findall(line)) + shakespeares\n",
    "        miltons = len(milton.findall(line)) + miltons\n",
    "        lockes = len(locke.findall(line)) + lockes\n",
    "        drydens = len(dryden.findall(line)) + drydens\n",
    "        \n",
    "        # adding author-citation pairs to dictionary for printing to CSV\n",
    "#         finding_shakespeare(line)\n",
    "#         finding_milton(line)\n",
    "#         finding_locke(line)\n",
    "#         finding_dryden(line)"
   ]
  },
  {
   "cell_type": "code",
   "execution_count": 28,
   "metadata": {},
   "outputs": [
    {
     "name": "stdout",
     "output_type": "stream",
     "text": [
      "Complete!\n"
     ]
    }
   ],
   "source": [
    "# outfile_csv.close()\n",
    "outfile_total_count.close()\n",
    "\n",
    "print(\"Complete!\")"
   ]
  },
  {
   "cell_type": "code",
   "execution_count": null,
   "metadata": {},
   "outputs": [],
   "source": []
  }
 ],
 "metadata": {
  "kernelspec": {
   "display_name": "Python 3",
   "language": "python",
   "name": "python3"
  },
  "language_info": {
   "codemirror_mode": {
    "name": "ipython",
    "version": 3
   },
   "file_extension": ".py",
   "mimetype": "text/x-python",
   "name": "python",
   "nbconvert_exporter": "python",
   "pygments_lexer": "ipython3",
   "version": "3.7.1"
  }
 },
 "nbformat": 4,
 "nbformat_minor": 2
}
