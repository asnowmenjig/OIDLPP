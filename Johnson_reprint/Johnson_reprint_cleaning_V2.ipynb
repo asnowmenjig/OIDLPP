{
 "cells": [
  {
   "cell_type": "code",
   "execution_count": null,
   "metadata": {},
   "outputs": [],
   "source": [
    "### JOHNSON REPRINT CLEANING ###\n",
    "#\n",
    "### PROCESS SUMMARY ###\n",
    "# for each line, the program cleans the line and prints the clean line to a new .txt file\n",
    "#"
   ]
  },
  {
   "cell_type": "code",
   "execution_count": null,
   "metadata": {},
   "outputs": [],
   "source": [
    "print(\"Creating clean_line function...\")\n",
    "def clean_line(line_str):\n",
    "    cleanline = line_str.lower()\n",
    "    cleanline = cleanline.replace(\"°\", \"o\")\n",
    "    cleanline = cleanline.replace(\"º\", \"o\")\n",
    "    cleanline = cleanline.replace(\"×\", \"x\")\n",
    "    cleanline = cleanline.replace(\"à\", \"a\")\n",
    "    cleanline = cleanline.replace(\"á\", 'a')\n",
    "    cleanline = cleanline.replace('â', 'a')\n",
    "    cleanline = cleanline.replace('ä', 'a')\n",
    "    cleanline = cleanline.replace('ă', 'a')\n",
    "    cleanline = cleanline.replace('ã', 'a')\n",
    "    cleanline = cleanline.replace('å', 'a')\n",
    "    cleanline = cleanline.replace('ā', 'a')\n",
    "    cleanline = cleanline.replace('ą', 'a')\n",
    "    cleanline = cleanline.replace('ć', 'c')\n",
    "    cleanline = cleanline.replace('č', 'c')\n",
    "    cleanline = cleanline.replace('ç', 'c')\n",
    "    cleanline = cleanline.replace('è', 'e')\n",
    "    cleanline = cleanline.replace('é', 'e')\n",
    "    cleanline = cleanline.replace('ë', 'e')\n",
    "    cleanline = cleanline.replace('ē', 'e')\n",
    "    cleanline = cleanline.replace('ę', 'e')\n",
    "    cleanline = cleanline.replace('ê', 'e')\n",
    "    cleanline = cleanline.replace('ğ', 'g')\n",
    "    cleanline = cleanline.replace('í', 'i')\n",
    "    cleanline = cleanline.replace('ì', 'i')\n",
    "    cleanline = cleanline.replace('ń', 'n')\n",
    "    cleanline = cleanline.replace('ñ', 'n')\n",
    "    cleanline = cleanline.replace('ň', 'n')\n",
    "    cleanline = cleanline.replace('ó', 'o')\n",
    "    cleanline = cleanline.replace('ö', 'o')\n",
    "    cleanline = cleanline.replace('ð', 'o')\n",
    "    cleanline = cleanline.replace('ø', 'o')\n",
    "    cleanline = cleanline.replace('ò', 'o')\n",
    "    cleanline = cleanline.replace('ř', 'r')\n",
    "    cleanline = cleanline.replace('š', 's')\n",
    "    cleanline = cleanline.replace(\"ſ\", \"s\")\n",
    "    cleanline = cleanline.replace('ś', 's')\n",
    "    cleanline = cleanline.replace('ş', 's')\n",
    "    cleanline = cleanline.replace('ţ', 't')\n",
    "    cleanline = cleanline.replace('ü', 'u')\n",
    "    cleanline = cleanline.replace('ú', 'u')\n",
    "    cleanline = cleanline.replace('ū', 'u')\n",
    "    cleanline = cleanline.replace('ź', 'z')\n",
    "    cleanline = cleanline.replace('ż', 'z')\n",
    "    cleanline = cleanline.replace('ž', 'z')\n",
    "    return cleanline\n",
    "#\n",
    "print(\"Success: created clean_line function!\")\n",
    "#"
   ]
  },
  {
   "cell_type": "code",
   "execution_count": null,
   "metadata": {},
   "outputs": [],
   "source": [
    "# open Johnson_reprint volume                                 #from Johnson4_v1_split_alphasectend-retain-punct\n",
    "print(\"Opening dictionary text...\")\n",
    "infile = open('uc1.31175025730543.txt','r', encoding='utf-8')\n",
    "text = str(infile.read())\n",
    "infile.close()\n",
    "print(\"Success: opened, read, and closed text!\")\n",
    "#"
   ]
  },
  {
   "cell_type": "code",
   "execution_count": null,
   "metadata": {},
   "outputs": [],
   "source": [
    "print(\"Creating Johnson_reprint_cleaned.txt...\")\n",
    "outfile_total_count = open(\"Johnson_reprint_cleaned.txt\", 'w', encoding=\"UTF-8\")\n",
    "print(\"Success: created Johnson_reprint_cleaned.txt!\")\n",
    "#"
   ]
  },
  {
   "cell_type": "code",
   "execution_count": null,
   "metadata": {},
   "outputs": [],
   "source": [
    "# split into lines                                 #from Johnson4_v1_split_alphasectend-retain-punct\n",
    "print(\"Splitting into lines...\")\n",
    "lines_list = text.split('\\n')\n",
    "print(\"Success: split into lines!\")\n",
    "#"
   ]
  },
  {
   "cell_type": "code",
   "execution_count": null,
   "metadata": {},
   "outputs": [],
   "source": [
    "# clean lines and add cleaned lines to a list        #from Johnson4_v1_split_alphasectend-retain-punct\n",
    "print(\"Cleaning lines...\")\n",
    "cleaned_lines_list = []\n",
    "for line in lines_list:\n",
    "    cleaned_line = \" \" + clean_line(line) + \" \"    #space buffer is for regex\n",
    "    cleaned_lines_list.append(cleaned_line)\n",
    "print(\"Success: cleaned lines!\")\n",
    "#"
   ]
  },
  {
   "cell_type": "code",
   "execution_count": null,
   "metadata": {},
   "outputs": [],
   "source": [
    "# create .txt file for cleaned lines\n",
    "print(\"Creating Johnson_reprint_cleaned.txt...\")\n",
    "outfile_cleaned_text = open(\"Johnson_reprint_cleaned.txt\", 'w', encoding=\"UTF-8\")\n",
    "print(\"Success: created Johnson_reprint_cleaned.txt!\")\n",
    "#"
   ]
  },
  {
   "cell_type": "code",
   "execution_count": null,
   "metadata": {},
   "outputs": [],
   "source": [
    "# print cleaned lines to .txt file\n",
    "print(\"Printing cleaned lines to Johnson_reprint_cleaned.txt...\")\n",
    "for line in cleaned_lines_list[7348:]:\n",
    "    print(line, file=outfile_cleaned_text)\n",
    "print(\"Success: printed cleaned lines to Johnson_reprint_cleaned!\")\n",
    "#"
   ]
  },
  {
   "cell_type": "code",
   "execution_count": null,
   "metadata": {},
   "outputs": [],
   "source": [
    "# close files\n",
    "print(\"Closing files..\")\n",
    "outfile_cleaned_text.close()\n",
    "print(\"Success: files closed!\")\n",
    "#\n",
    "print(\"Congrats! The program didn't fail! Check your folder to see your results!\")"
   ]
  }
 ],
 "metadata": {
  "kernelspec": {
   "display_name": "Python 3",
   "language": "python",
   "name": "python3"
  },
  "language_info": {
   "codemirror_mode": {
    "name": "ipython",
    "version": 3
   },
   "file_extension": ".py",
   "mimetype": "text/x-python",
   "name": "python",
   "nbconvert_exporter": "python",
   "pygments_lexer": "ipython3",
   "version": "3.7.1"
  }
 },
 "nbformat": 4,
 "nbformat_minor": 2
}
