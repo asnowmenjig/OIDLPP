{
 "cells": [
  {
   "cell_type": "code",
   "execution_count": null,
   "metadata": {},
   "outputs": [],
   "source": [
    "import glob\n",
    "import csv\n",
    "\n",
    "confirmed_1 = glob.glob('Letter_*_confirmed.csv')\n",
    "confirmed_1.sort()\n",
    "index_1 = 0\n",
    "\n",
    "alpha_sect = 65"
   ]
  },
  {
   "cell_type": "code",
   "execution_count": null,
   "metadata": {},
   "outputs": [],
   "source": [
    "print(\"Now evaluating batch 1...\")\n",
    "\n",
    "for confirmed_1[index_1] in confirmed_1:\n",
    "    print(\"Evaluating \" + str(confirmed_1[index_1]) + \"...\")\n",
    "    with open(confirmed_1[index_1], 'r') as infile_csv:\n",
    "        filereader = csv.reader(infile_csv, delimiter=',')\n",
    "        \n",
    "        for row in filereader:\n",
    "            \n",
    "            if \"alphasectend\" in row[0]:\n",
    "                print(\"Success: done evaluating \" + str(confirmed_1[index_1]) + \"!\")\n",
    "                print(\"Data written to Letter_\" str(chr(alpha_sect)) + \"_final_tally.csv file!\"\n",
    "                \n",
    "                if alpha_sect == 73 or alpha_sect == 85:\n",
    "                    alpha_sect = alpha_sect + 2\n",
    "                else:\n",
    "                    alpha_sect = alpha_sect + 1\n",
    "                      \n",
    "                index_1 = index_1 + 1\n",
    "                      \n",
    "            else:\n",
    "                with open(\"Letter_\" + str(chr(tally_alpha_sect)) + \"_final_tally.csv\", 'a', newline = '', encoding=\"UTF-8\") as final_tally_csv:\n",
    "                    final_tally_filewriter = csv.writer(final_tally_csv, delimiter=',')\n",
    "                    row = [row[0], row[1]]\n",
    "                    final_tally_filewriter.writerow(row)\n",
    "                      \n",
    "print(\"Finished evaluating batch 1!\")\n",
    "\n"
   ]
  },
  {
   "cell_type": "code",
   "execution_count": null,
   "metadata": {},
   "outputs": [],
   "source": [
    "alpha_sect = 65\n",
    "confirmed_2 = glob.glob('Letter_*_confirmed_2.csv')\n",
    "confirmed_2.sort()\n",
    "index_2 = 0"
   ]
  },
  {
   "cell_type": "code",
   "execution_count": null,
   "metadata": {},
   "outputs": [],
   "source": [
    "print(\"Now evaluating batch 2...\")\n",
    "\n",
    "for confirmed_2[index_2] in confirmed_2:\n",
    "    print(\"Evaluating \" + str(confirmed_2[index_2]) + \"...\")\n",
    "    with open(confirmed_2[index_2], 'r') as infile_csv:\n",
    "        filereader = csv.reader(infile_csv, delimiter=',')\n",
    "        \n",
    "        for row in filereader:\n",
    "            \n",
    "            if \"alphasectend\" in row[0]:\n",
    "                print(\"Success: done evaluating \" + str(confirmed_2[index_2]) + \"!\")\n",
    "                print(\"Data written to Letter_\" str(chr(alpha_sect)) + \"_final_tally.csv file!\"\n",
    "                \n",
    "                if alpha_sect == 73 or alpha_sect == 85:\n",
    "                    alpha_sect = alpha_sect + 2\n",
    "                else:\n",
    "                    alpha_sect = alpha_sect + 1\n",
    "                      \n",
    "                index_2 = index_2 + 1\n",
    "                      \n",
    "            else:\n",
    "                with open(\"Letter_\" + str(chr(tally_alpha_sect)) + \"_final_tally.csv\", 'a', newline = '', encoding=\"UTF-8\") as final_tally_csv:\n",
    "                    final_tally_filewriter = csv.writer(final_tally_csv, delimiter=',')\n",
    "                    row = [row[0], row[1]]\n",
    "                    final_tally_filewriter.writerow(row)\n",
    "                      \n",
    "print(\"Finished evaluating batch 2!\")"
   ]
  },
  {
   "cell_type": "code",
   "execution_count": null,
   "metadata": {},
   "outputs": [],
   "source": [
    "alpha_sect = 65\n",
    "confirmed_3 = glob.glob('Letter_*_confirmed_3.csv')\n",
    "confirmed_3.sort()\n",
    "index_3 = 0"
   ]
  },
  {
   "cell_type": "code",
   "execution_count": null,
   "metadata": {},
   "outputs": [],
   "source": [
    "print(\"Now evaluating batch 3...\")\n",
    "\n",
    "for confirmed_3[index_3] in confirmed_3:\n",
    "    print(\"Evaluating \" + str(confirmed_3[index_3]) + \"...\")\n",
    "    with open(confirmed_3[index_3], 'r') as infile_csv:\n",
    "        filereader = csv.reader(infile_csv, delimiter=',')\n",
    "        \n",
    "        for row in filereader:\n",
    "            \n",
    "            if \"alphasectend\" in row[0]:\n",
    "                print(\"Success: done evaluating \" + str(confirmed_3[index_3]) + \"!\")\n",
    "                print(\"Data written to Letter_\" str(chr(alpha_sect)) + \"_final_tally.csv file!\"\n",
    "                \n",
    "                if alpha_sect == 73 or alpha_sect == 85:\n",
    "                    alpha_sect = alpha_sect + 2\n",
    "                else:\n",
    "                    alpha_sect = alpha_sect + 1\n",
    "                      \n",
    "                index_3 = index_3 + 1\n",
    "                      \n",
    "            else:\n",
    "                with open(\"Letter_\" + str(chr(tally_alpha_sect)) + \"_final_tally.csv\", 'a', newline = '', encoding=\"UTF-8\") as final_tally_csv:\n",
    "                    final_tally_filewriter = csv.writer(final_tally_csv, delimiter=',')\n",
    "                    row = [row[0], row[1]]\n",
    "                    final_tally_filewriter.writerow(row)\n",
    "                      \n",
    "print(\"Finished evaluating batch 3!\")"
   ]
  }
 ],
 "metadata": {
  "kernelspec": {
   "display_name": "Python 3",
   "language": "python",
   "name": "python3"
  },
  "language_info": {
   "codemirror_mode": {
    "name": "ipython",
    "version": 3
   },
   "file_extension": ".py",
   "mimetype": "text/x-python",
   "name": "python",
   "nbconvert_exporter": "python",
   "pygments_lexer": "ipython3",
   "version": "3.7.1"
  }
 },
 "nbformat": 4,
 "nbformat_minor": 2
}
