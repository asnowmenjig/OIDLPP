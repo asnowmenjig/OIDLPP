{
 "cells": [
  {
   "cell_type": "code",
   "execution_count": null,
   "metadata": {},
   "outputs": [],
   "source": [
    "HOW TO OPEN IN TERMINAL\n",
    "\n",
    "To navigate to “Johnson_reprint” file folder and view files\n",
    "- “cd /media/secure_volume/Johnson_reprint” → “ls”\n",
    "\n",
    "Open text file:\n",
    "- “cd /media/secure_volume/Johnson_reprint” → “xdg-open uc1.31175025730543.txt”"
   ]
  },
  {
   "cell_type": "code",
   "execution_count": null,
   "metadata": {},
   "outputs": [],
   "source": [
    "JUMP TO LINE: [CTRL] + [I]\n",
    "\n",
    "in concatenated text file, no clear delineation between pages\n",
    "\n",
    "lines 1-7348 (slice [0:7347]) are intro text (line 7348 is 'alphasectend' string for intro)\n",
    "\n",
    "dictionary content begins on line 7349\n",
    "\n",
    "line separations for text ('alphasectend' added):\n",
    "A  = 7349, \"the first letter\"\n",
    "B  = 33927, \"the second letter\"\n",
    "C  = 57971, \"the third letter\"\n",
    "D  = 102310, \"approaching in sound\"\n",
    "E  = 130546, \"most frequent vowel\"\n",
    "F  = 149329, \"admitted by scaliger\"\n",
    "G  = 174668, \"of the hard g\"\n",
    "H  = 190074, \"accounted no letter\"\n",
    "IJ = 205879, \"vowel and consonant\"\n",
    "K  = 227385, \"after c at the end\"\n",
    "L  = 230006, \"same sound in English\"\n",
    "M  = 245273, \"preſſion of the lips\"\n",
    "N  = 265931, \"ſometimes after m\"\n",
    "O  = 272626, \"denoted long by\"\n",
    "P  = 283344, \"slight compression of\"\n",
    "Q  = 317768, \"consonant borrowed\"\n",
    "R  = 320252, \"canine letter\"\n",
    "S  = 340623, \"unhappily prevails\"\n",
    "T  = 393548, \"always the same sound\"\n",
    "UV = 414613, \"expressed in modern english\"\n",
    "W  = 435866, \"the learned languages\"\n",
    "X  = 450525, \"begins no word\"\n",
    "Y  = 450528, \"has the sound of i\"\n",
    "Z  = 451641, \"read in no word\""
   ]
  }
 ],
 "metadata": {
  "kernelspec": {
   "display_name": "Python 3",
   "language": "python",
   "name": "python3"
  },
  "language_info": {
   "codemirror_mode": {
    "name": "ipython",
    "version": 3
   },
   "file_extension": ".py",
   "mimetype": "text/x-python",
   "name": "python",
   "nbconvert_exporter": "python",
   "pygments_lexer": "ipython3",
   "version": "3.7.1"
  }
 },
 "nbformat": 4,
 "nbformat_minor": 2
}
