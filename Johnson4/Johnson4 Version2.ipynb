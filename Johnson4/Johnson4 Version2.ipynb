{
 "cells": [
  {
   "cell_type": "code",
   "execution_count": null,
   "metadata": {},
   "outputs": [],
   "source": [
    "#Testing:\n",
    "## while looping through lines, identify lines that have an author citation\n",
    "## if the line has a citation, add the author's name and the line to a CSV file\n",
    "\n",
    "#must be able to add string for EVERY instance of an author citation, i.e.:\n",
    "## \"this line has a shakespeare citation and milton citation\" --> add line to CSV twice (once for shak and once for milt)\n",
    "## \"this line has a shakespeare citation and a shaks citation\" --> add line to CSV twice (each individual instance of shak)"
   ]
  },
  {
   "cell_type": "code",
   "execution_count": null,
   "metadata": {},
   "outputs": [],
   "source": [
    "lines_list = ['this line has a shakespeare citation.', 'this line has a shakespeare citation and a milton citation.', 'this line has a shakespeare citation and a shaks. citation.', 'this line has a milton citation, a locke citation, a dryden citation, and a milton citation']\n",
    "\n",
    "#EXPECTED RESULTS:\n",
    "# shakespeares = 4\n",
    "# miltons = 3\n",
    "# lockes = 1\n",
    "# drydens = 1\n",
    "\n"
   ]
  },
  {
   "cell_type": "code",
   "execution_count": null,
   "metadata": {},
   "outputs": [],
   "source": [
    "#define regex patterns and author count variables\n",
    "\n",
    "import re\n",
    "\n",
    "shak = re.compile('shak[^i]')      #shakespeare pattern\n",
    "shakespeares = 0\n",
    "\n",
    "milton = re.compile('mil.')         #milton pattern\n",
    "miltons = 0\n",
    "\n",
    "locke = re.compile('loc.')        #locke pattern\n",
    "lockes = 0\n",
    "\n",
    "dryden = re.compile('dry[^i]')      #dryden pattern\n",
    "drydens = 0"
   ]
  },
  {
   "cell_type": "code",
   "execution_count": null,
   "metadata": {},
   "outputs": [],
   "source": [
    "for line in lines_list:\n",
    "    #...\n",
    "    else:\n",
    "        #identify whether any of the regex patterns are present in the string\n",
    "        shakespeares = len(shak.findall(line)) + shakespeares\n",
    "#        if (shak.findall(line)):                #write to the dictionary with key-value pair {shakespeare:string}\n",
    "#            alpha_dictionary[chr(alpha_sect)][line] = \"shakespeare\"\n",
    "        miltons = len(milton.findall(line)) + miltons\n",
    "#        if milton.findall(line):                #write to the dictionary with key-value pair {milton:string}\n",
    "        lockes = len(locke.findall(line)) + lockes\n",
    "#        if locke.findall(line):                 #write to the dictionary with key-value pair {locke:string}\n",
    "        drydens = len(dryden.findall(line)) + drydens\n",
    "#        if dryden.findall(line):                #write to the dictionary with key-value pair {dryden:string}\n"
   ]
  }
 ],
 "metadata": {
  "kernelspec": {
   "display_name": "Python 3",
   "language": "python",
   "name": "python3"
  },
  "language_info": {
   "codemirror_mode": {
    "name": "ipython",
    "version": 3
   },
   "file_extension": ".py",
   "mimetype": "text/x-python",
   "name": "python",
   "nbconvert_exporter": "python",
   "pygments_lexer": "ipython3",
   "version": "3.7.1"
  }
 },
 "nbformat": 4,
 "nbformat_minor": 2
}
