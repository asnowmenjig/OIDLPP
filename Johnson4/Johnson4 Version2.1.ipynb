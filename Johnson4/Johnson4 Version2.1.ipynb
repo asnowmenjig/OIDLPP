{
 "cells": [
  {
   "cell_type": "code",
   "execution_count": null,
   "metadata": {},
   "outputs": [],
   "source": [
    "#Testing:\n",
    "## while looping through lines, identify lines that have an author citation\n",
    "## if the line has a citation, add the author's name and the line to a CSV file\n",
    "\n",
    "#must be able to add string for EVERY instance of an author citation, i.e.:\n",
    "## \"this line has a shakespeare citation and milton citation\" --> add line to CSV twice (once for shak and once for milt)\n",
    "## \"this line has a shakespeare citation and a shaks citation\" --> add line to CSV twice (each individual instance of shak)"
   ]
  },
  {
   "cell_type": "code",
   "execution_count": null,
   "metadata": {},
   "outputs": [],
   "source": [
    "lines_list = ['this line has a shakespeare citation.', 'this line has a shakespeare citation and a milton citation.', 'alphasectend', 'this line has a shakespeare citation and a shaks. citation.', 'this line has a milton citation, a locke citation, a dryden citation, and a milton citation']\n",
    "\n",
    "#EXPECTED RESULTS:\n",
    "#CSV A:\n",
    "## shakespeares = 2\n",
    "## miltons = 1\n",
    "\n",
    "#CSV B:\n",
    "# shakespeares = 2\n",
    "# miltons = 2\n",
    "# lockes = 1\n",
    "# drydens = 1"
   ]
  },
  {
   "cell_type": "code",
   "execution_count": null,
   "metadata": {},
   "outputs": [],
   "source": [
    "citations_dictionary = {\"A\":{}}\n",
    "\n",
    "\n",
    "for line in lines_list:\n",
    "    shakespeares = len(shak.findall(line)) + shakespeares\n",
    "    if (shak.search(line)):                #write to the dictionary with key-value pair {shakespeare:string}\n",
    "        citations_dictionary[\"A\"][line] = \"shakespeare\"\n",
    "    \n",
    "    \n",
    "            \n",
    "            \n",
    "    miltons = len(milton.findall(line)) + miltons\n",
    "        if milton.findall(line):                #write to the dictionary with key-value pair {milton:string}\n",
    "            \n",
    "        lockes = len(locke.findall(line)) + lockes\n",
    "        if locke.findall(line):                 #write to the dictionary with key-value pair {locke:string}\n",
    "            \n",
    "            \n",
    "        drydens = len(dryden.findall(line)) + drydens\n",
    "        if dryden.findall(line):                #write to the dictionary with key-value pair {dryden:string}"
   ]
  },
  {
   "cell_type": "code",
   "execution_count": null,
   "metadata": {},
   "outputs": [],
   "source": [
    "# dictionary of dictionaries:\n",
    "# key = alphabet section     #value = empty dictionary for author-string pairs\n",
    "alpha_dictionary = {\"A\":{}, \"B\":{}}\n",
    "\n",
    "import csv\n",
    "\n",
    "#define text outfile that will contain author citation counts\n",
    "outfile_total_count = open(\"version2_counts.txt\", 'w', encoding=\"UTF-8\")\n",
    "\n",
    "alpha_sect = 65"
   ]
  },
  {
   "cell_type": "code",
   "execution_count": null,
   "metadata": {},
   "outputs": [],
   "source": [
    "#define regex patterns and author count variables\n",
    "\n",
    "import re\n",
    "\n",
    "shak = re.compile('shak[^i]')      #shakespeare pattern\n",
    "shakespeares = 0\n",
    "\n",
    "milton = re.compile('mil.')         #milton pattern\n",
    "miltons = 0\n",
    "\n",
    "locke = re.compile('loc.')        #locke pattern\n",
    "lockes = 0\n",
    "\n",
    "dryden = re.compile('dry[^i]')      #dryden pattern\n",
    "drydens = 0"
   ]
  },
  {
   "cell_type": "code",
   "execution_count": null,
   "metadata": {},
   "outputs": [],
   "source": [
    "for line in lines_list:\n",
    "    if 'alphasectend' in line:     \n",
    "        #write dictionary contents to CSV                   ## CSV COUNT ##\n",
    "        with open(\"Letter_\" + str(chr(alpha_sect)) + \"_counts.csv\", 'w', newline = '', encoding=\"UTF-8\") as outfile_csv:\n",
    "            filewriter = csv.writer(outfile_csv, delimiter=',')\n",
    "            for pair in alpha_dictionary[chr(alpha_sect)].items():\n",
    "                label = pair[1]\n",
    "                citation_string = pair[0]\n",
    "                row = [label, citation_string]\n",
    "                filewriter.writerow(row)\n",
    "\n",
    "        #print count results to text file\n",
    "        section_header = (\"ALPHABET SECTION: \" + str(chr(alpha_sect)))\n",
    "        shak_counts_statement = (\"Shakespeare citations = \" + str(shakespeares))\n",
    "        milton_counts_statement = (\"Milton citations = \" + str(miltons))\n",
    "        locke_counts_statement = (\"Locke citations = \" + str(lockes))\n",
    "        dryden_counts_statement = (\"Dryden citations = \" + str(drydens))\n",
    "        section_border = (\"- - - - - - - - - - - - -\")\n",
    "        \n",
    "        print(section_header, file=outfile_total_count)\n",
    "        print(shak_counts_statement, file=outfile_total_count)\n",
    "        print(milton_counts_statement, file=outfile_total_count)\n",
    "        print(locke_counts_statement, file=outfile_total_count)\n",
    "        print(dryden_counts_statement, file=outfile_total_count)\n",
    "        print(section_border, file=outfile_total_count)\n",
    "            \n",
    "        #redefine alpha section\n",
    "        alpha_sect = alpha_sect + 1\n",
    "        \n",
    "        #reset citation counts\n",
    "        shakespeares = 0\n",
    "        miltons = 0\n",
    "        lockes = 0\n",
    "        drydens = 0\n",
    "        \n",
    "    else:\n",
    "        #identify whether any of the regex patterns are present in the string\n",
    "        shakespeares = len(shak.findall(line)) + shakespeares\n",
    "        if (shak.search(line)):                #write to the dictionary with key-value pair {shakespeare:string}\n",
    "            alpha_dictionary[chr(alpha_sect)][line] = \"shakespeare\"\n",
    "            \n",
    "            \n",
    "        miltons = len(milton.findall(line)) + miltons\n",
    "        if milton.findall(line):                #write to the dictionary with key-value pair {milton:string}\n",
    "            \n",
    "        lockes = len(locke.findall(line)) + lockes\n",
    "        if locke.findall(line):                 #write to the dictionary with key-value pair {locke:string}\n",
    "            \n",
    "            \n",
    "        drydens = len(dryden.findall(line)) + drydens\n",
    "        if dryden.findall(line):                #write to the dictionary with key-value pair {dryden:string}\n"
   ]
  },
  {
   "cell_type": "code",
   "execution_count": null,
   "metadata": {},
   "outputs": [],
   "source": [
    "outfile_csv.close()\n",
    "outfile_total_count.close()\n",
    "\n",
    "print(\"Complete!\")"
   ]
  }
 ],
 "metadata": {
  "kernelspec": {
   "display_name": "Python 3",
   "language": "python",
   "name": "python3"
  },
  "language_info": {
   "codemirror_mode": {
    "name": "ipython",
    "version": 3
   },
   "file_extension": ".py",
   "mimetype": "text/x-python",
   "name": "python",
   "nbconvert_exporter": "python",
   "pygments_lexer": "ipython3",
   "version": "3.7.1"
  }
 },
 "nbformat": 4,
 "nbformat_minor": 2
}
