{
 "cells": [
  {
   "cell_type": "code",
   "execution_count": 1,
   "metadata": {},
   "outputs": [],
   "source": [
    "#Testing:\n",
    "## while looping through lines, identify lines that have an author citation\n",
    "## if the line has a citation, add the author's name and the line to a CSV file\n",
    "\n",
    "#must be able to add string for EVERY instance of an author citation, i.e.:\n",
    "## \"this line has a shakespeare citation and milton citation\" --> add line to CSV twice (once for shak and once for milt)\n",
    "## \"this line has a shakespeare citation and a shaks citation\" --> add line to CSV twice (each individual instance of shak)"
   ]
  },
  {
   "cell_type": "code",
   "execution_count": 13,
   "metadata": {},
   "outputs": [],
   "source": [
    "lines_list = ['this line has a shakespeare citation.', 'this line has a shakespeare citation and a milton citation.', 'this line has a shakespeare citation and a shaks. citation.', 'this line has a milton citation, a locke citation, a dryden citation, and a milton citation']\n",
    "\n",
    "#define regex patterns and author count variables\n",
    "\n",
    "import re\n",
    "\n",
    "shak = re.compile('shak[^i]')      #shakespeare pattern\n",
    "shakespeares = 0\n",
    "\n",
    "milton = re.compile('mil.')         #milton pattern\n",
    "miltons = 0\n",
    "\n",
    "locke = re.compile('loc.')        #locke pattern\n",
    "lockes = 0\n",
    "\n",
    "dryden = re.compile('dry[^i]')      #dryden pattern\n",
    "drydens = 0\n",
    "\n",
    "\n",
    "#EXPECTED RESULTS:\n",
    "#CSV A:\n",
    "# shakespeares = 4\n",
    "# miltons = 3\n",
    "# lockes = 1\n",
    "# drydens = 1"
   ]
  },
  {
   "cell_type": "code",
   "execution_count": 14,
   "metadata": {},
   "outputs": [
    {
     "name": "stdout",
     "output_type": "stream",
     "text": [
      "<re.Match object; span=(16, 21), match='shake'>\n",
      "<re.Match object; span=(16, 21), match='shake'>\n",
      "<re.Match object; span=(16, 21), match='shake'>\n",
      "shakespeares = 4\n",
      "miltons = 3\n",
      "lockes = 1\n",
      "drydens = 1\n",
      "{'A': {'this line has a shakespeare citation.': 'shakespeare', 'this line has a shakespeare citation and a milton citation.': 'shakespeare', 'this line has a shakespeare citation and a shaks. citation.': 'shakespeare', 'this line has a milton citation, a locke citation, a dryden citation, and a milton citation': 'milton'}}\n"
     ]
    }
   ],
   "source": [
    "citations_dictionary = {\"A\":{}}\n",
    "\n",
    "\n",
    "for line in lines_list:\n",
    "    shakespeares = len(shak.findall(line)) + shakespeares\n",
    "    miltons = len(milton.findall(line)) + miltons\n",
    "    lockes = len(locke.findall(line)) + lockes\n",
    "    drydens = len(dryden.findall(line)) + drydens\n",
    "    \n",
    "    if (shak.search(line)):\n",
    "        print(shak.search(line))\n",
    "        citations_dictionary[\"A\"][line] = \"shakespeare\"  #write to the dictionary with key-value pair {shakespeare:string}\n",
    "#        print(citations_dictionary)\n",
    "\n",
    "    elif (milton.search(line)):\n",
    "        citations_dictionary[\"A\"][line] = \"milton\" #write to the dictionary with key-value pair {milton:string}\n",
    "#        print(citations_dictionary)\n",
    "\n",
    "    elif (locke.search(line)):\n",
    "        citations_dictionary[\"A\"][line] = \"locke\" #write to the dictionary with key-value pair {locke:string}\n",
    "#        print(citations_dictionary)\n",
    "\n",
    "    elif (dryden.search(line)):                \n",
    "        citations_dictionary[\"A\"][line] = \"dryden\" #write to the dictionary with key-value pair {dryden:string}\n",
    "#        print(citations_dictionary)\n",
    "        \n",
    "        \n",
    "print(\"shakespeares = \" + str(shakespeares))\n",
    "print(\"miltons = \" + str(miltons))\n",
    "print(\"lockes = \" + str(lockes))\n",
    "print(\"drydens = \" + str(drydens))\n",
    "print(citations_dictionary)"
   ]
  },
  {
   "cell_type": "code",
   "execution_count": 29,
   "metadata": {},
   "outputs": [],
   "source": [
    "lines_list = ['this line has a shakespeare citation.', 'this line has a shakespeare citation and a milton citation.', 'this is an empty line.', 'this line has a shakespeare citation and a shaks. citation.', 'this line has a milton citation, a locke citation, a dryden citation, and a milton citation']\n",
    "\n",
    "#define regex patterns and author count variables\n",
    "\n",
    "import re\n",
    "\n",
    "shak = re.compile('shak[^i]')      #shakespeare pattern\n",
    "#shakespeare_appears = shak.findall(lines_list)\n",
    "\n",
    "milton = re.compile('mil.')         #milton pattern\n",
    "#milton_appears = milton.findall(lines_list)\n",
    "\n",
    "locke = re.compile('loc.')        #locke pattern\n",
    "#locke_appears = locke.findall(lines_list)\n",
    "\n",
    "dryden = re.compile('dry[^i]')      #dryden pattern\n",
    "#dryden_appears = dryden.findall(lines_list)\n"
   ]
  },
  {
   "cell_type": "code",
   "execution_count": 30,
   "metadata": {},
   "outputs": [
    {
     "name": "stdout",
     "output_type": "stream",
     "text": [
      "this line has a shakespeare citation.\n",
      "this line has a shakespeare citation and a milton citation.\n",
      "this line has a shakespeare citation and a shaks. citation.\n",
      "this line has a milton citation, a locke citation, a dryden citation, and a milton citation\n"
     ]
    }
   ],
   "source": [
    "for line in lines_list:\n",
    "    shakespeare_appears = shak.findall(line)\n",
    "    milton_appears = milton.findall(line)\n",
    "    locke_appears = locke.findall(line)\n",
    "    dryden_appears = dryden.findall(line)\n",
    "    if shakespeare_appears or milton_appears or locke_appears or dryden_appears:\n",
    "        print(line)\n",
    "        \n",
    "# print(\"------\")\n",
    "        \n",
    "# for line in lines_list:\n",
    "#     milton_appears = milton.findall(line)\n",
    "#     if milton_appears:\n",
    "#         print(line)\n",
    "        \n",
    "# print(\"------\")\n",
    "\n",
    "# for line in lines_list:\n",
    "#     locke_appears = locke.findall(line)\n",
    "#     if locke_appears:\n",
    "#         print(line)\n",
    "\n",
    "# print(\"------\")\n",
    "\n",
    "\n",
    "# for line in lines_list:\n",
    "#     dryden_appears = dryden.findall(line)\n",
    "#     if dryden_appears:\n",
    "#         print(line)"
   ]
  },
  {
   "cell_type": "code",
   "execution_count": null,
   "metadata": {},
   "outputs": [],
   "source": []
  }
 ],
 "metadata": {
  "kernelspec": {
   "display_name": "Python 3",
   "language": "python",
   "name": "python3"
  },
  "language_info": {
   "codemirror_mode": {
    "name": "ipython",
    "version": 3
   },
   "file_extension": ".py",
   "mimetype": "text/x-python",
   "name": "python",
   "nbconvert_exporter": "python",
   "pygments_lexer": "ipython3",
   "version": "3.7.1"
  }
 },
 "nbformat": 4,
 "nbformat_minor": 2
}
