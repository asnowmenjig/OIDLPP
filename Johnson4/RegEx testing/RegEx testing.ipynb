{
 "cells": [
  {
   "cell_type": "code",
   "execution_count": 126,
   "metadata": {},
   "outputs": [],
   "source": [
    "#read in text\n",
    "infile = open('Letter_A_text-Copy1.txt', 'r', encoding=\"UTF-8\")\n",
    "text = str(infile.read())\n",
    "infile.close()\n",
    "\n",
    "# split into lines\n",
    "lines_list = text.split('\\n')"
   ]
  },
  {
   "cell_type": "code",
   "execution_count": 112,
   "metadata": {},
   "outputs": [],
   "source": [
    "#import regex\n",
    "import re"
   ]
  },
  {
   "cell_type": "code",
   "execution_count": 63,
   "metadata": {},
   "outputs": [
    {
     "name": "stdout",
     "output_type": "stream",
     "text": [
      "Looking for \"software testing\" in \"software testing is fun?\" -> found a match!\n",
      "Looking for \"guru99\" in \"software testing is fun?\" -> no match\n"
     ]
    }
   ],
   "source": [
    "import re                                  #https://www.guru99.com/python-regular-expressions-complete-tutorial.html#5\n",
    "\n",
    "patterns = ['software testing', 'guru99']\n",
    "text = 'software testing is fun?'\n",
    "\n",
    "for pattern in patterns:\n",
    "    print('Looking for \"%s\" in \"%s\" ->' % (pattern, text), end=' ')\n",
    "    \n",
    "    if re.search(pattern, text):\n",
    "        print('found a match!')\n",
    "    else:\n",
    "        print('no match')"
   ]
  },
  {
   "cell_type": "code",
   "execution_count": 79,
   "metadata": {},
   "outputs": [
    {
     "name": "stdout",
     "output_type": "stream",
     "text": [
      "Looking for \"m...\" in \"such trouble brought affecting to subdue\" -> no match\n",
      "Looking for \"m...\" in \"rational liberty milt parad loft b xii 179\" -> found a match!\n"
     ]
    }
   ],
   "source": [
    "import re\n",
    "\n",
    "pattern = 'm...' #milton regex pattern\n",
    "lines = ['such trouble brought affecting to subdue', 'rational liberty milt parad loft b xii 179']\n",
    "\n",
    "for line in lines:\n",
    "    print('Looking for \"%s\" in \"%s\" ->' % (pattern, line), end=' ')\n",
    "    \n",
    "    if re.search(pattern, line):\n",
    "        print('found a match!')\n",
    "    else:\n",
    "        print('no match')"
   ]
  },
  {
   "cell_type": "code",
   "execution_count": 110,
   "metadata": {},
   "outputs": [
    {
     "name": "stdout",
     "output_type": "stream",
     "text": [
      "shak_count = 2\n",
      "milt_count = 1\n",
      "lock_count = 1\n",
      "dryd_count = 1\n",
      "no_authors = 70\n"
     ]
    }
   ],
   "source": [
    "#from lines_list[615:690]:\n",
    "## shak = 2\n",
    "## milt = 1\n",
    "## lock = 1\n",
    "## dryd = 1\n",
    "\n",
    "shak = 'shak'\n",
    "shak_count = 0\n",
    "\n",
    "milt = 'mil.'\n",
    "milt_count = 0\n",
    "\n",
    "lock = 'loc.'\n",
    "lock_count = 0\n",
    "\n",
    "dryd = 'dry.'\n",
    "dryd_count = 0\n",
    "\n",
    "no_authors = 0\n",
    "\n",
    "for line in lines_list[615:690]:    \n",
    "    if re.search(shak, line):\n",
    "        shak_count = shak_count + 1\n",
    "    elif re.search(milt, line):\n",
    "        milt_count = milt_count + 1\n",
    "    elif re.search(lock, line):\n",
    "        lock_count = lock_count + 1\n",
    "    elif re.search(dryd, line):\n",
    "        dryd_count = dryd_count + 1\n",
    "    else:\n",
    "        no_authors = no_authors + 1\n",
    "        \n",
    "print(\"shak_count = \" + str(shak_count))\n",
    "print(\"milt_count = \" + str(milt_count))\n",
    "print(\"lock_count = \" + str(lock_count))\n",
    "print(\"dryd_count = \" + str(dryd_count))\n",
    "print(\"no_authors = \" + str(no_authors))"
   ]
  },
  {
   "cell_type": "code",
   "execution_count": 114,
   "metadata": {},
   "outputs": [
    {
     "name": "stdout",
     "output_type": "stream",
     "text": [
      "shak_count = 665\n",
      "milt_count = 336\n",
      "lock_count = 215\n",
      "dryd_count = 502\n",
      "no_authors = 24140\n"
     ]
    }
   ],
   "source": [
    "shak = 'shak[^i]'\n",
    "shak_count = 0\n",
    "\n",
    "milt = 'mil.'\n",
    "milt_count = 0\n",
    "\n",
    "lock = 'loc.'\n",
    "lock_count = 0\n",
    "\n",
    "dryd = 'dry[^i]'\n",
    "dryd_count = 0\n",
    "\n",
    "no_authors = 0\n",
    "\n",
    "for line in lines_list:    \n",
    "    if re.search(shak, line):\n",
    "        shak_count = shak_count + 1\n",
    "    elif re.search(milt, line):\n",
    "        milt_count = milt_count + 1\n",
    "    elif re.search(lock, line):\n",
    "        lock_count = lock_count + 1\n",
    "    elif re.search(dryd, line):\n",
    "        dryd_count = dryd_count + 1\n",
    "    else:\n",
    "        no_authors = no_authors + 1\n",
    "        \n",
    "\n",
    "print(\"shak_count = \" + str(shak_count))\n",
    "print(\"milt_count = \" + str(milt_count))\n",
    "print(\"lock_count = \" + str(lock_count))\n",
    "print(\"dryd_count = \" + str(dryd_count))\n",
    "print(\"no_authors = \" + str(no_authors))"
   ]
  },
  {
   "cell_type": "code",
   "execution_count": 159,
   "metadata": {},
   "outputs": [
    {
     "name": "stdout",
     "output_type": "stream",
     "text": [
      "0\n"
     ]
    }
   ],
   "source": [
    "lines_list_test = ['shakespeare shakespeare', 'milton']\n",
    "\n",
    "\n",
    "shak = 'shak[^i]'\n",
    "shak_count = 0\n",
    "\n",
    "milt = 'mil.'\n",
    "milt_count = 0\n",
    "\n",
    "lock = 'loc.'\n",
    "lock_count = 0\n",
    "\n",
    "dryd = 'dry[^i]'\n",
    "dryd_count = 0\n",
    "\n",
    "no_authors = 0\n",
    "\n",
    "for line in lines_list_test:\n",
    "    shakespeares = len(re.findall(shak, line))\n",
    "    miltons = len(re.findall(milt, line))\n",
    "    lockes = len(re.findall(lock, line))\n",
    "    drydens = len(re.findall(dryd, line))\n",
    "        \n",
    "\n",
    "print(shakespeares)"
   ]
  },
  {
   "cell_type": "code",
   "execution_count": null,
   "metadata": {},
   "outputs": [],
   "source": []
  }
 ],
 "metadata": {
  "kernelspec": {
   "display_name": "Python 3",
   "language": "python",
   "name": "python3"
  },
  "language_info": {
   "codemirror_mode": {
    "name": "ipython",
    "version": 3
   },
   "file_extension": ".py",
   "mimetype": "text/x-python",
   "name": "python",
   "nbconvert_exporter": "python",
   "pygments_lexer": "ipython3",
   "version": "3.7.1"
  }
 },
 "nbformat": 4,
 "nbformat_minor": 2
}
