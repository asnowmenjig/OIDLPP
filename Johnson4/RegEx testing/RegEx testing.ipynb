{
 "cells": [
  {
   "cell_type": "code",
   "execution_count": 14,
   "metadata": {},
   "outputs": [],
   "source": [
    "#read in text\n",
    "infile = open('Letter_A_text-Copy1.txt', 'r', encoding=\"UTF-8\")\n",
    "text = str(infile.read())\n",
    "infile.close()\n",
    "\n",
    "# split into lines\n",
    "lines_list = text.split('\\\\n')"
   ]
  },
  {
   "cell_type": "code",
   "execution_count": null,
   "metadata": {},
   "outputs": [],
   "source": [
    "# character replacements:\n",
    "\n",
    "# (\"°\", \"o\")\n",
    "# (\"º\", \"o\")\n",
    "# (\"×\", \"x\")\n",
    "# (\"à\", \"a\")\n",
    "# (\"á\", 'a')\n",
    "# ('â', 'a')\n",
    "# ('ä', 'a')\n",
    "# ('ă', 'a')\n",
    "# ('ã', 'a')\n",
    "# ('å', 'a')\n",
    "# ('ā', 'a')\n",
    "# ('ą', 'a')\n",
    "# ('ć', 'c')\n",
    "# ('č', 'c')\n",
    "# ('ç', 'c')\n",
    "# ('è', 'e')\n",
    "# ('é', 'e')\n",
    "# ('ë', 'e')\n",
    "# ('ē', 'e')\n",
    "# ('ę', 'e')\n",
    "# ('ê', 'e')\n",
    "# ('ğ', 'g')\n",
    "# ('í', 'i')\n",
    "# ('ì', 'i')\n",
    "# ('ń', 'n')\n",
    "# ('ñ', 'n')\n",
    "# ('ň', 'n')\n",
    "# ('ó', 'o')\n",
    "# ('ö', 'o')\n",
    "# ('ð', 'o')\n",
    "# ('ø', 'o')\n",
    "# ('ò', 'o')\n",
    "# ('ř', 'r')\n",
    "# ('š', 's')\n",
    "# (\"ſ\", \"s\")\n",
    "# ('ś', 's')\n",
    "# ('ş', 's')\n",
    "# ('ţ', 't')\n",
    "# ('ü', 'u')\n",
    "# ('ú', 'u')\n",
    "# ('ū', 'u')\n",
    "# ('ź', 'z')\n",
    "# ('ż', 'z')\n",
    "# ('ž', 'z')"
   ]
  },
  {
   "cell_type": "code",
   "execution_count": 15,
   "metadata": {},
   "outputs": [],
   "source": [
    "#import regex\n",
    "import re"
   ]
  },
  {
   "cell_type": "code",
   "execution_count": 17,
   "metadata": {},
   "outputs": [
    {
     "name": "stdout",
     "output_type": "stream",
     "text": [
      "668\n",
      "209531\n"
     ]
    }
   ],
   "source": [
    "shakespeare_count = 0\n",
    "not_shakespeare = 0\n",
    "\n",
    "for line in lines_list:\n",
    "    clean_words = line.split()\n",
    "    for word in clean_words:\n",
    "        x = re.search(\"\\Ashak\", word)\n",
    "        if (x):\n",
    "            shakespeare_count = shakespeare_count + 1\n",
    "        else:\n",
    "            not_shakespeare = not_shakespeare + 1\n",
    "            \n",
    "print(shakespeare_count)\n",
    "print(not_shakespeare)"
   ]
  },
  {
   "cell_type": "code",
   "execution_count": null,
   "metadata": {},
   "outputs": [],
   "source": []
  }
 ],
 "metadata": {
  "kernelspec": {
   "display_name": "Python 3",
   "language": "python",
   "name": "python3"
  },
  "language_info": {
   "codemirror_mode": {
    "name": "ipython",
    "version": 3
   },
   "file_extension": ".py",
   "mimetype": "text/x-python",
   "name": "python",
   "nbconvert_exporter": "python",
   "pygments_lexer": "ipython3",
   "version": "3.7.1"
  }
 },
 "nbformat": 4,
 "nbformat_minor": 2
}
