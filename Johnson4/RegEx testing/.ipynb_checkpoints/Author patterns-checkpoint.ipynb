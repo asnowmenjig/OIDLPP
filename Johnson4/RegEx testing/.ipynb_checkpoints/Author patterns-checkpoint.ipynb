{
 "cells": [
  {
   "cell_type": "code",
   "execution_count": 2,
   "metadata": {},
   "outputs": [],
   "source": [
    "import re\n",
    "\n",
    "#comment out = [CTRL] + [/]"
   ]
  },
  {
   "cell_type": "code",
   "execution_count": 6,
   "metadata": {},
   "outputs": [
    {
     "name": "stdout",
     "output_type": "stream",
     "text": [
      "\n",
      "author_count = 1\n"
     ]
    }
   ],
   "source": [
    "#template code for testing for false positives\n",
    "\n",
    "author_test = ['']\n",
    "\n",
    "author = re.compile('')\n",
    "author_count = 0\n",
    "\n",
    "for line in author_test:\n",
    "    author_count = len(re.findall(author, line)) + author_count\n",
    "    if re.findall(author, line):\n",
    "        print(line)\n",
    "    \n",
    "print('author_count = ' + str(author_count))"
   ]
  },
  {
   "cell_type": "code",
   "execution_count": 5,
   "metadata": {},
   "outputs": [
    {
     "name": "stdout",
     "output_type": "stream",
     "text": [
      "shak love lab lo\n",
      "shak iiii\n",
      "shakes iiiii\n",
      "shakoffea\n",
      "shakspeare\n",
      "shakespeare\n",
      "shakosheare\n",
      "shakłospeares\n",
      "shakso iiii\n",
      "shakoff iii\n",
      "shakos iiii\n"
     ]
    }
   ],
   "source": [
    "#Shakespeare\n",
    "#status: unfinished\n",
    "\n",
    "# DON'T COUNT:\n",
    "# \"shakes th\" (12410)\n",
    "# \"shake th\" (2720)\n",
    "# \"shaking\" (7248)\n",
    "\n",
    "# COUNT:\n",
    "# \"shak love lab lo\" (2626)\n",
    "# shak\n",
    "# shaos\n",
    "# shakes\n",
    "# shakso\n",
    "# shakoff\n",
    "# shakesh\n",
    "# shakoffea\n",
    "# shakspeare\n",
    "# shakespeare\n",
    "# shakosheare\n",
    "# shakłospeares\n",
    "\n",
    "#POSSIBLE PATTERNS:\n",
    "## sha[ko].[^n][^t][^t]\n",
    "\n",
    "shak_test = ['shak love lab lo', 'shak iiii', 'shakes iiiii', 'shakoffea', 'shakspeare', 'shakespeare', 'shakosheare', 'shakłospeares', 'shakso iiii', 'shakoff iii', 'shakos iiii',]\n",
    "\n",
    "shak = re.compile('sha[ko].[^n][^t][^t]')\n",
    "shak_count = 0\n",
    "\n",
    "for line in shak_test:\n",
    "    shak_count = len(re.findall(shak, line)) + shak_count\n",
    "    if re.findall(shak, line):\n",
    "        print(line)\n",
    "    \n",
    "print('shak_count = ' + str(shak_count))"
   ]
  },
  {
   "cell_type": "code",
   "execution_count": 15,
   "metadata": {},
   "outputs": [
    {
     "name": "stdout",
     "output_type": "stream",
     "text": [
      "spens. \n",
      "spensor \n",
      "spenser\n",
      "speoser\n",
      "spe's r\n",
      "spessor\n",
      "spessator\n",
      "spens_count = 7\n"
     ]
    }
   ],
   "source": [
    "#Spenser\n",
    "\n",
    "# DON'T COUNT\n",
    "# spessator (Addison’s Spectator)\n",
    "# spectator\n",
    "# speciator\n",
    "# spect.\n",
    "# speak\n",
    "\n",
    "# COUNT:\n",
    "# spens.\n",
    "# spensor\n",
    "# spenser\n",
    "# speoser\n",
    "# \"spe's r\"\n",
    "# spessor\n",
    "\n",
    "\n",
    "spens_test = ['spens. ', 'spensor ', 'spenser', 'speoser', 'spe\\'s r', 'spessor', 'spessator', 'spectator', 'speciator', 'spect.', 'speak ']\n",
    "\n",
    "#possible patterns:\n",
    "## spe[^c][sſf]\n",
    "## spe..[^a]\n",
    "\n",
    "spens = re.compile('spe[^c][sſf]')\n",
    "spens_count = 0\n",
    "\n",
    "for line in spens_test:\n",
    "    spens_count = len(re.findall(spens, line)) + spens_count\n",
    "    if re.findall(spens, line):\n",
    "        print(line)\n",
    "    \n",
    "print('spens_count = ' + str(spens_count))"
   ]
  },
  {
   "cell_type": "code",
   "execution_count": 12,
   "metadata": {},
   "outputs": [
    {
     "name": "stdout",
     "output_type": "stream",
     "text": [
      "sidney\n",
      " sidney\n",
      "sidney\n",
      "sidney_count = 3\n"
     ]
    }
   ],
   "source": [
    "#Sidney\n",
    "\n",
    "\n",
    "\n",
    "sidney_test = ['sidney', ' sidney', 'sidney']\n",
    "\n",
    "sidney = re.compile('sid.')\n",
    "sidney_count = 0\n",
    "\n",
    "for line in sidney_test:\n",
    "    sidney_count = len(re.findall(sidney, line)) + sidney_count\n",
    "    if re.findall(sidney, line):\n",
    "        print(line)\n",
    "    \n",
    "print('sidney_count = ' + str(sidney_count))"
   ]
  },
  {
   "cell_type": "code",
   "execution_count": null,
   "metadata": {},
   "outputs": [],
   "source": [
    "#L'Estrange\n",
    "\n",
    "lestrange_test = ['']\n",
    "\n",
    "lestrange = re.compile('')\n",
    "lestrange_count = 0\n",
    "\n",
    "for line in lestrange_test:\n",
    "    lestrange_count = len(re.findall(lestrange, line)) + lestrange_count\n",
    "    if re.findall(lestrange, line):\n",
    "        print(line)\n",
    "    \n",
    "print('lestrange_count = ' + str(lestrange_count))"
   ]
  },
  {
   "cell_type": "code",
   "execution_count": null,
   "metadata": {},
   "outputs": [],
   "source": [
    "#Dryden\n",
    "\n",
    "dryden_test = ['']\n",
    "\n",
    "dryden = re.compile('')\n",
    "dryden_count = 0\n",
    "\n",
    "for line in dryden_test:\n",
    "    dryden_count = len(re.findall(dryden, line)) + dryden_count\n",
    "    if re.findall(dryden, line):\n",
    "        print(line)\n",
    "    \n",
    "print('dryden_count = ' + str(dryden_count))"
   ]
  },
  {
   "cell_type": "code",
   "execution_count": null,
   "metadata": {},
   "outputs": [],
   "source": [
    "#Locke\n",
    "\n",
    "locke_test = ['']\n",
    "\n",
    "locke = re.compile('')\n",
    "locke_count = 0\n",
    "\n",
    "for line in locke_test:\n",
    "    locke_count = len(re.findall(locke, line)) + locke_count\n",
    "    if re.findall(locke, line):\n",
    "        print(line)\n",
    "    \n",
    "print('locke_count = ' + str(locke_count))"
   ]
  },
  {
   "cell_type": "code",
   "execution_count": null,
   "metadata": {},
   "outputs": [],
   "source": [
    "#Prior\n",
    "\n",
    "prior_test = ['']\n",
    "\n",
    "prior = re.compile('')\n",
    "prior_count = 0\n",
    "\n",
    "for line in prior_test:\n",
    "    prior_count = len(re.findall(prior, line)) + prior_count\n",
    "    if re.findall(prior, line):\n",
    "        print(line)\n",
    "    \n",
    "print('prior_count = ' + str(prior_count))"
   ]
  },
  {
   "cell_type": "code",
   "execution_count": null,
   "metadata": {},
   "outputs": [],
   "source": [
    "#Swift\n",
    "\n",
    "swift_test = ['']\n",
    "\n",
    "swift = re.compile('')\n",
    "swift_count = 0\n",
    "\n",
    "for line in swift_test:\n",
    "    swift_count = len(re.findall(swift, line)) + swift_count\n",
    "    if re.findall(swift, line):\n",
    "        print(line)\n",
    "    \n",
    "print('swift_count = ' + str(swift_count))"
   ]
  },
  {
   "cell_type": "code",
   "execution_count": null,
   "metadata": {},
   "outputs": [],
   "source": [
    "#Addison\n",
    "\n",
    "addison_test = ['']\n",
    "\n",
    "addison = re.compile('')\n",
    "addison_count = 0\n",
    "\n",
    "for line in addison_test:\n",
    "    addison_count = len(re.findall(addison, line)) + addison_count\n",
    "    if re.findall(addison, line):\n",
    "        print(line)\n",
    "    \n",
    "print('addison_count = ' + str(addison_count))"
   ]
  }
 ],
 "metadata": {
  "kernelspec": {
   "display_name": "Python 3",
   "language": "python",
   "name": "python3"
  },
  "language_info": {
   "codemirror_mode": {
    "name": "ipython",
    "version": 3
   },
   "file_extension": ".py",
   "mimetype": "text/x-python",
   "name": "python",
   "nbconvert_exporter": "python",
   "pygments_lexer": "ipython3",
   "version": "3.7.1"
  }
 },
 "nbformat": 4,
 "nbformat_minor": 2
}
