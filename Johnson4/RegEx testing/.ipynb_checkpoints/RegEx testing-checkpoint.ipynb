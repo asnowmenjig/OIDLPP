{
 "cells": [
  {
   "cell_type": "code",
   "execution_count": 126,
   "metadata": {},
   "outputs": [],
   "source": [
    "#read in text\n",
    "infile = open('Letter_A_text-Copy1.txt', 'r', encoding=\"UTF-8\")\n",
    "text = str(infile.read())\n",
    "infile.close()\n",
    "\n",
    "# split into lines\n",
    "lines_list = text.split('\\n')"
   ]
  },
  {
   "cell_type": "code",
   "execution_count": 112,
   "metadata": {},
   "outputs": [],
   "source": [
    "#import regex\n",
    "import re"
   ]
  },
  {
   "cell_type": "code",
   "execution_count": 63,
   "metadata": {},
   "outputs": [
    {
     "name": "stdout",
     "output_type": "stream",
     "text": [
      "Looking for \"software testing\" in \"software testing is fun?\" -> found a match!\n",
      "Looking for \"guru99\" in \"software testing is fun?\" -> no match\n"
     ]
    }
   ],
   "source": [
    "#sample code, parse through a list of strings and confirm/deny whether a given string is in each index of that list\n",
    "#adapted from code at [https://www.guru99.com/python-regular-expressions-complete-tutorial.html#5]\n",
    "\n",
    "\n",
    "import re\n",
    "\n",
    "patterns = ['software testing', 'guru99']\n",
    "text = 'software testing is fun?'\n",
    "\n",
    "for pattern in patterns:\n",
    "    print('Looking for \"%s\" in \"%s\" ->' % (pattern, text), end=' ')\n",
    "    \n",
    "    if re.search(pattern, text):\n",
    "        print('found a match!')\n",
    "    else:\n",
    "        print('no match')"
   ]
  },
  {
   "cell_type": "code",
   "execution_count": 79,
   "metadata": {},
   "outputs": [
    {
     "name": "stdout",
     "output_type": "stream",
     "text": [
      "Looking for \"m...\" in \"such trouble brought affecting to subdue\" -> no match\n",
      "Looking for \"m...\" in \"rational liberty milt parad loft b xii 179\" -> found a match!\n"
     ]
    }
   ],
   "source": [
    "#adapting 'string in a list of strings' code using regex\n",
    "\n",
    "import re\n",
    "\n",
    "pattern = 'm...' #milton regex pattern\n",
    "lines = ['such trouble brought affecting to subdue', 'rational liberty milt parad loft b xii 179']\n",
    "\n",
    "for line in lines:\n",
    "    print('Looking for \"%s\" in \"%s\" ->' % (pattern, line), end=' ')\n",
    "    \n",
    "    if re.search(pattern, line):\n",
    "        print('found a match!')\n",
    "    else:\n",
    "        print('no match')"
   ]
  },
  {
   "cell_type": "code",
   "execution_count": 110,
   "metadata": {},
   "outputs": [
    {
     "name": "stdout",
     "output_type": "stream",
     "text": [
      "shak_count = 2\n",
      "milt_count = 1\n",
      "lock_count = 1\n",
      "dryd_count = 1\n",
      "no_authors = 70\n"
     ]
    }
   ],
   "source": [
    "#first regex test on a smaller slice of lines from lines_list\n",
    "\n",
    "#from lines_list[615:690]:\n",
    "## shak = 2\n",
    "## milt = 1\n",
    "## lock = 1\n",
    "## dryd = 1\n",
    "\n",
    "shak = 'shak'\n",
    "shak_count = 0\n",
    "\n",
    "milt = 'mil.'\n",
    "milt_count = 0\n",
    "\n",
    "lock = 'loc.'\n",
    "lock_count = 0\n",
    "\n",
    "dryd = 'dry.'\n",
    "dryd_count = 0\n",
    "\n",
    "no_authors = 0\n",
    "\n",
    "for line in lines_list[615:690]:    \n",
    "    if re.search(shak, line):\n",
    "        shak_count = shak_count + 1\n",
    "    elif re.search(milt, line):\n",
    "        milt_count = milt_count + 1\n",
    "    elif re.search(lock, line):\n",
    "        lock_count = lock_count + 1\n",
    "    elif re.search(dryd, line):\n",
    "        dryd_count = dryd_count + 1\n",
    "    else:\n",
    "        no_authors = no_authors + 1\n",
    "        \n",
    "print(\"shak_count = \" + str(shak_count))\n",
    "print(\"milt_count = \" + str(milt_count))\n",
    "print(\"lock_count = \" + str(lock_count))\n",
    "print(\"dryd_count = \" + str(dryd_count))\n",
    "print(\"no_authors = \" + str(no_authors))"
   ]
  },
  {
   "cell_type": "code",
   "execution_count": 114,
   "metadata": {},
   "outputs": [
    {
     "name": "stdout",
     "output_type": "stream",
     "text": [
      "shak_count = 665\n",
      "milt_count = 336\n",
      "lock_count = 215\n",
      "dryd_count = 502\n",
      "no_authors = 24140\n"
     ]
    }
   ],
   "source": [
    "#regex test on full list of lines\n",
    "#problem: does not accurately pick up multiple instances of author name(s) in the same line\n",
    "##(i.e. line with 2 shakespeare citations, line with 1 shakespeare and 1 milton, etc.)\n",
    "\n",
    "shak = 'shak[^i]'\n",
    "shak_count = 0\n",
    "\n",
    "milt = 'mil.'\n",
    "milt_count = 0\n",
    "\n",
    "lock = 'loc.'\n",
    "lock_count = 0\n",
    "\n",
    "dryd = 'dry[^i]'\n",
    "dryd_count = 0\n",
    "\n",
    "no_authors = 0\n",
    "\n",
    "for line in lines_list:    \n",
    "    if re.search(shak, line):\n",
    "        shak_count = shak_count + 1\n",
    "    elif re.search(milt, line):\n",
    "        milt_count = milt_count + 1\n",
    "    elif re.search(lock, line):\n",
    "        lock_count = lock_count + 1\n",
    "    elif re.search(dryd, line):\n",
    "        dryd_count = dryd_count + 1\n",
    "    else:\n",
    "        no_authors = no_authors + 1\n",
    "        \n",
    "\n",
    "print(\"shak_count = \" + str(shak_count))\n",
    "print(\"milt_count = \" + str(milt_count))\n",
    "print(\"lock_count = \" + str(lock_count))\n",
    "print(\"dryd_count = \" + str(dryd_count))\n",
    "print(\"no_authors = \" + str(no_authors))"
   ]
  },
  {
   "cell_type": "code",
   "execution_count": 179,
   "metadata": {},
   "outputs": [
    {
     "name": "stdout",
     "output_type": "stream",
     "text": [
      "5\n",
      "1\n",
      "2\n",
      "1\n"
     ]
    }
   ],
   "source": [
    "#regex test for picking up multiple instances of author name(s) in the same line, using a sample list of lines\n",
    "\n",
    "lines_list_test = ['shakespeare shakespeare milton', 'shakespeare locke', 'shakespeare locke', 'shakespeare dryden']\n",
    "\n",
    "\n",
    "shak = re.compile('shak[^i]')\n",
    "shakespeares = 0\n",
    "\n",
    "milt = 'mil.'\n",
    "miltons = 0\n",
    "\n",
    "lock = 'loc.'\n",
    "lockes = 0\n",
    "\n",
    "dryd = 'dry[^i]'\n",
    "drydens = 0\n",
    "\n",
    "no_authors = 0\n",
    "\n",
    "for line in lines_list_test:\n",
    "    shakespeares = len(shak.findall(line)) + shakespeares\n",
    "    miltons = len(re.findall(milt, line)) + miltons\n",
    "    lockes = len(re.findall(lock, line)) + lockes\n",
    "    drydens = len(re.findall(dryd, line)) + drydens\n",
    "        \n",
    "\n",
    "print(shakespeares)\n",
    "print(miltons)\n",
    "print(lockes)\n",
    "print(drydens)"
   ]
  },
  {
   "cell_type": "code",
   "execution_count": 200,
   "metadata": {},
   "outputs": [
    {
     "name": "stdout",
     "output_type": "stream",
     "text": [
      "shakespeare citations = 665\n",
      "milton citations = 350\n",
      "locke citations = 220\n",
      "dryden citations = 512\n",
      "total lines = 25763\n"
     ]
    }
   ],
   "source": [
    "#regex test for picking up multiple instances of author name(s) in the same line, tested on full list of lines\n",
    "\n",
    "\n",
    "#read in text\n",
    "infile = open('Letter_A_text-Copy1.txt', 'r', encoding=\"UTF-8\")\n",
    "text = str(infile.read())\n",
    "infile.close()\n",
    "\n",
    "# split into lines\n",
    "lines_list = text.split('\\n')\n",
    "\n",
    "#import regex\n",
    "import re\n",
    "\n",
    "shak = re.compile('shak[^i]')\n",
    "shakespeares = 0\n",
    "\n",
    "milt = re.compile('mil.')\n",
    "miltons = 0\n",
    "\n",
    "lock = re.compile('loc.')\n",
    "lockes = 0\n",
    "\n",
    "dryd = re.compile('dry[^i]')\n",
    "drydens = 0\n",
    "\n",
    "total_lines = 0\n",
    "\n",
    "\n",
    "for line in lines_list:\n",
    "    shakespeares = len(shak.findall(line)) + shakespeares\n",
    "    miltons = len(milt.findall(line)) + miltons\n",
    "    lockes = len(lock.findall(line)) + lockes\n",
    "    drydens = len(dryd.findall(line)) + drydens\n",
    "    if line == '':\n",
    "        total_lines = total_lines + 0\n",
    "    else:\n",
    "        total_lines = total_lines + 1\n",
    "\n",
    "\n",
    "print('shakespeare citations = ' + str(shakespeares))\n",
    "print('milton citations = ' + str(miltons))\n",
    "print('locke citations = ' + str(lockes))\n",
    "print('dryden citations = ' + str(drydens))\n",
    "print('total lines = ' + str(total_lines))"
   ]
  },
  {
   "cell_type": "code",
   "execution_count": 195,
   "metadata": {},
   "outputs": [
    {
     "name": "stdout",
     "output_type": "stream",
     "text": [
      "0\n"
     ]
    }
   ],
   "source": [
    "#testing whether false positives for 'dryden' are picked up by regex pattern 'ry[^i^\\s^n]'\n",
    "\n",
    "dryden_test = ['dry ray', 'sundry', 'adry adv from a and dry athirst  thirsty in want of drink', 'drying', 'hushandry', 'afishandry', 'husbandry', 'fundry', 'heraldry', 'dryness']\n",
    "\n",
    "dryd = re.compile('ry[^i^\\s^n]')\n",
    "drydens = 0\n",
    "\n",
    "for line in dryden_test:\n",
    "    drydens = len(dryd.findall(line)) + drydens\n",
    "    if dryd.findall(line):\n",
    "        print(line)\n",
    "    \n",
    "print(drydens)\n",
    "#result = 0\n",
    "\n",
    "#success! regex successfully ignores false positives"
   ]
  },
  {
   "cell_type": "code",
   "execution_count": 207,
   "metadata": {},
   "outputs": [
    {
     "name": "stdout",
     "output_type": "stream",
     "text": [
      "shak is in this line: shakespeare is cited here\n",
      "milt is in this line: milton and locke are cited here\n",
      "lock is in this line: milton and locke are cited here\n",
      "dryd is in this line: dryden is cited here\n",
      "shak is in this line: shakespeare shakespeare\n",
      "shakespeare citations = 3\n",
      "milton citations = 1\n",
      "locke citations = 1\n",
      "dryden citations = 1\n"
     ]
    }
   ],
   "source": [
    "#testing sequence:\n",
    "## evaluate whether the author name is in the line\n",
    "## if the author name is in the line, 1) add the proper count AND 2) print the line\n",
    "\n",
    "\n",
    "lines_list = ['shakespeare is cited here', 'milton and locke are cited here', 'dryden is cited here', 'no one is cited here', 'shakespeare shakespeare']\n",
    "\n",
    "#shak = 3\n",
    "#milt = 1\n",
    "#lock = 1\n",
    "#dryd = 1\n",
    "\n",
    "\n",
    "#import regex\n",
    "import re\n",
    "\n",
    "shak = re.compile('shak[^i]')\n",
    "shakespeares = 0\n",
    "\n",
    "milt = re.compile('mil.')\n",
    "miltons = 0\n",
    "\n",
    "lock = re.compile('loc.')\n",
    "lockes = 0\n",
    "\n",
    "dryd = re.compile('dry[^i]')\n",
    "drydens = 0\n",
    "\n",
    "total_lines = 0\n",
    "\n",
    "\n",
    "for line in lines_list:\n",
    "    shakespeares = len(shak.findall(line)) + shakespeares\n",
    "    if (shak.findall(line)):\n",
    "        print('shak is in this line: ' + str(line))\n",
    "    miltons = len(milt.findall(line)) + miltons\n",
    "    if milt.findall(line):\n",
    "        print('milt is in this line: ' + str(line))\n",
    "    lockes = len(lock.findall(line)) + lockes\n",
    "    if lock.findall(line):\n",
    "        print('lock is in this line: ' + str(line))\n",
    "    drydens = len(dryd.findall(line)) + drydens\n",
    "    if dryd.findall(line):\n",
    "        print('dryd is in this line: ' + str(line))\n",
    "\n",
    "\n",
    "print('shakespeare citations = ' + str(shakespeares))\n",
    "print('milton citations = ' + str(miltons))\n",
    "print('locke citations = ' + str(lockes))\n",
    "print('dryden citations = ' + str(drydens))"
   ]
  },
  {
   "cell_type": "code",
   "execution_count": null,
   "metadata": {},
   "outputs": [],
   "source": []
  }
 ],
 "metadata": {
  "kernelspec": {
   "display_name": "Python 3",
   "language": "python",
   "name": "python3"
  },
  "language_info": {
   "codemirror_mode": {
    "name": "ipython",
    "version": 3
   },
   "file_extension": ".py",
   "mimetype": "text/x-python",
   "name": "python",
   "nbconvert_exporter": "python",
   "pygments_lexer": "ipython3",
   "version": "3.7.1"
  }
 },
 "nbformat": 4,
 "nbformat_minor": 2
}
