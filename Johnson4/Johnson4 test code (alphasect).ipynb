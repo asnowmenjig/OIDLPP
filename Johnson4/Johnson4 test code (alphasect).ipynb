{
 "cells": [
  {
   "cell_type": "code",
   "execution_count": null,
   "metadata": {},
   "outputs": [],
   "source": [
    "##### PROGRAM FOR VOLUME 1 #####\n",
    "\n",
    "#dictionary content starts on page 69\n",
    "\n",
    "#A = pg 69\n",
    "#B = 206\n",
    "#C = 324U\n",
    "#D = 545\n",
    "#E = 681\n",
    "#F = 772\n",
    "#G = 895\n",
    "#H = 973\n",
    "#I/J = 1053\n",
    "#K = 1162"
   ]
  },
  {
   "cell_type": "code",
   "execution_count": null,
   "metadata": {},
   "outputs": [],
   "source": [
    "## CLEANING FUNCTION ##\n",
    "\n",
    "import string\n",
    "\n",
    "def clean_line(line_str):\n",
    "    cleanline = line_str.lower()\n",
    "    for punc in string.punctuation:\n",
    "         cleanline = cleanline.replace(punc, \"\")\n",
    "    cleanline = cleanline.replace(\"°\", \"o\")\n",
    "    cleanline = cleanline.replace(\"º\", \"o\")\n",
    "    cleanline = cleanline.replace(\"×\", \"x\")\n",
    "    cleanline = cleanline.replace(\"à\", \"a\")\n",
    "    cleanline = cleanline.replace(\"á\", 'a')\n",
    "    cleanline = cleanline.replace('â', 'a')\n",
    "    cleanline = cleanline.replace('ä', 'a')\n",
    "    cleanline = cleanline.replace('ă', 'a')\n",
    "    cleanline = cleanline.replace('ã', 'a')\n",
    "    cleanline = cleanline.replace('å', 'a')\n",
    "    cleanline = cleanline.replace('ā', 'a')\n",
    "    cleanline = cleanline.replace('ą', 'a')\n",
    "    cleanline = cleanline.replace('ć', 'c')\n",
    "    cleanline = cleanline.replace('č', 'c')\n",
    "    cleanline = cleanline.replace('ç', 'c')\n",
    "    cleanline = cleanline.replace('è', 'e')\n",
    "    cleanline = cleanline.replace('é', 'e')\n",
    "    cleanline = cleanline.replace('ë', 'e')\n",
    "    cleanline = cleanline.replace('ē', 'e')\n",
    "    cleanline = cleanline.replace('ę', 'e')\n",
    "    cleanline = cleanline.replace('ê', 'e')\n",
    "    cleanline = cleanline.replace('ğ', 'g')\n",
    "    cleanline = cleanline.replace('í', 'i')\n",
    "    cleanline = cleanline.replace('ì', 'i')\n",
    "    cleanline = cleanline.replace('ń', 'n')\n",
    "    cleanline = cleanline.replace('ñ', 'n')\n",
    "    cleanline = cleanline.replace('ň', 'n')\n",
    "    cleanline = cleanline.replace('ó', 'o')\n",
    "    cleanline = cleanline.replace('ö', 'o')\n",
    "    cleanline = cleanline.replace('ð', 'o')\n",
    "    cleanline = cleanline.replace('ø', 'o')\n",
    "    cleanline = cleanline.replace('ò', 'o')\n",
    "    cleanline = cleanline.replace('ř', 'r')\n",
    "    cleanline = cleanline.replace('š', 's')\n",
    "    cleanline = cleanline.replace(\"ſ\", \"s\")\n",
    "    cleanline = cleanline.replace('ś', 's')\n",
    "    cleanline = cleanline.replace('ş', 's')\n",
    "    cleanline = cleanline.replace('ţ', 't')\n",
    "    cleanline = cleanline.replace('ü', 'u')\n",
    "    cleanline = cleanline.replace('ú', 'u')\n",
    "    cleanline = cleanline.replace('ū', 'u')\n",
    "    cleanline = cleanline.replace('ź', 'z')\n",
    "    cleanline = cleanline.replace('ż', 'z')\n",
    "    cleanline = cleanline.replace('ž', 'z')\n",
    "    return cleanline"
   ]
  },
  {
   "cell_type": "code",
   "execution_count": null,
   "metadata": {},
   "outputs": [],
   "source": [
    "# dictionary of dictionaries:\n",
    "# key = alphabet section     #value = empty dictionary for word counts\n",
    "\n",
    "alpha_dictionary = {\"A\":{}, \"B\":{}, \"C\":{}, \"D\":{}, \"E\":{}, \"F\":{}, \"G\":{}, \"H\":{}, \"I\":{}, \"K\":{}}"
   ]
  },
  {
   "cell_type": "code",
   "execution_count": null,
   "metadata": {},
   "outputs": [],
   "source": [
    "#dictionary of page numbers:\n",
    "#key = alphabet section      #value = empty 'pages' variable\n",
    "\n",
    "pages = 0\n",
    "page_counter = {\"A\": pages, \"B\": pages, \"C\": pages, \"D\": pages, \"E\": pages, \"F\": pages, \"G\": pages, \"H\": pages, \"I\": pages, \"K\": pages}"
   ]
  },
  {
   "cell_type": "code",
   "execution_count": null,
   "metadata": {},
   "outputs": [],
   "source": [
    "## create txt outfile - total citation counts ##\n",
    "\n",
    "import csv\n",
    "outfile_total_count = open(\"volume1_counts.txt\", 'w', encoding=\"UTF-8\")"
   ]
  },
  {
   "cell_type": "code",
   "execution_count": null,
   "metadata": {},
   "outputs": [],
   "source": [
    "#open full text of dictionary ##                                   ## LISTS OF LINES AND WORDS ##\n",
    "infile = open('Johnson4_v1.txt','r', encoding='utf-8')\n",
    "text = str(infile.read())\n",
    "infile.close()"
   ]
  },
  {
   "cell_type": "code",
   "execution_count": null,
   "metadata": {},
   "outputs": [],
   "source": [
    "# split dictionary text into lines ##\n",
    "\n",
    "lines_list = text.split('\\n')\n",
    "# print(\"success: split into lines\")"
   ]
  },
  {
   "cell_type": "code",
   "execution_count": null,
   "metadata": {},
   "outputs": [],
   "source": [
    "# clean dictionary text lines ##\n",
    "\n",
    "for line in lines_list:\n",
    "    clean = clean_line(line)"
   ]
  },
  {
   "cell_type": "code",
   "execution_count": null,
   "metadata": {},
   "outputs": [],
   "source": [
    "## for loop over words ##\n",
    "    \n",
    "for line in lines_list:\n",
    "    line = line.lower()\n",
    "    clean_words = clean_line(line).split()  #split line into words\n",
    "    for word in clean_words:\n",
    "        if word == 'alphasectionend':\n",
    "            #create CSV for alphabet section and write words and counts to CSV                   ## CSV COUNT ##\n",
    "            with open(\"Letter_\" + str(chr(alpha_sect)) + \"_counts.csv\", 'w', newline = '', encoding=\"UTF-8\") as outfile_csv:\n",
    "                filewriter = csv.writer(outfile_csv, delimiter=',')\n",
    "                filewriter.writerow(['word', 'count'])\n",
    "                for pair in alpha_dictionary[chr(alpha_sect)].items():\n",
    "                    label = pair[0]\n",
    "                    count = pair[1]\n",
    "                    row = [label, count]\n",
    "                    filewriter.writerow(row)\n",
    "\n",
    "        #evaluate CSV file to find shakespeare counts           ## SHAKESPEARE COUNT ##\n",
    "            with open(\"Letter_\" + str(chr(alpha_sect)) + \"_counts.csv\", 'r', encoding=\"UTF-8\") as csv_file:\n",
    "                csv_reader = csv.reader(csv_file, delimiter=',')\n",
    "                total_count = 0\n",
    "                other_count = 0\n",
    "                misc_list = []\n",
    "                for row in csv_reader:\n",
    "                    if \"shakes\" in row[0]:\n",
    "                        total_count = total_count + int(row[1])\n",
    "                    elif \"count\" in row[1]:\n",
    "                        misc_list.append(row[1])\n",
    "                    else:\n",
    "                        other_count = other_count + int(row[1])\n",
    "\n",
    "            #print count results to text file\n",
    "            counts_statement = (\"There are \" + str(page_counter[chr(alpha_sect)]) + \" pages and \" + str(total_count) + \" Shakespeare citations in the \" + str(chr(alpha_sect)) + \" section.\")\n",
    "            # print(counts_statement)\n",
    "            print(counts_statement, file=outfile_total_count)\n",
    "\n",
    "            #redefine alpha_sect\n",
    "            if alpha_sect == 73:\n",
    "                alpha_sect = alpha_sect + 2\n",
    "            else:\n",
    "                alpha_sect = alpha_sect + 1\n",
    "\n",
    "        #adding to page count\n",
    "        elif word == 'classpagenum':\n",
    "            page_counter[chr(alpha_sect)] = page_counter[chr(alpha_sect)] + 1\n",
    "\n",
    "        #adding words and counts to dictionary\n",
    "        else:                                                   ## DICTIONARY COUNT ##\n",
    "            if word not in alpha_dictionary[chr(alpha_sect)]:\n",
    "                alpha_dictionary[chr(alpha_sect)][word] = 1\n",
    "                # print(alpha_dictionary[chr(alpha_sect)])\n",
    "            else:\n",
    "                alpha_dictionary[chr(alpha_sect)][word] += 1"
   ]
  },
  {
   "cell_type": "code",
   "execution_count": null,
   "metadata": {},
   "outputs": [],
   "source": [
    "outfile_csv.close()\n",
    "csv_file.close()\n",
    "outfile_total_count.close()\n",
    "\n",
    "print(\"Complete!\")"
   ]
  }
 ],
 "metadata": {
  "kernelspec": {
   "display_name": "Python 3",
   "language": "python",
   "name": "python3"
  },
  "language_info": {
   "codemirror_mode": {
    "name": "ipython",
    "version": 3
   },
   "file_extension": ".py",
   "mimetype": "text/x-python",
   "name": "python",
   "nbconvert_exporter": "python",
   "pygments_lexer": "ipython3",
   "version": "3.7.1"
  }
 },
 "nbformat": 4,
 "nbformat_minor": 2
}
