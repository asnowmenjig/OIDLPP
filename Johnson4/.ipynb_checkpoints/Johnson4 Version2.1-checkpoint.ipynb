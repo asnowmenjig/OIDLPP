{
 "cells": [
  {
   "cell_type": "code",
   "execution_count": null,
   "metadata": {},
   "outputs": [],
   "source": [
    "#Testing:\n",
    "## while looping through lines, identify lines that have an author citation\n",
    "## if the line has a citation, add the author's name and the line to a CSV file\n",
    "\n",
    "#must be able to add string for EVERY instance of an author citation, i.e.:\n",
    "## \"this line has a shakespeare citation and milton citation\" --> add line to CSV twice (once for shak and once for milt)\n",
    "## \"this line has a shakespeare citation and a shaks citation\" --> add line to CSV twice (each individual instance of shak)"
   ]
  },
  {
   "cell_type": "code",
   "execution_count": null,
   "metadata": {},
   "outputs": [],
   "source": [
    "lines_list = ['this line has a shakespeare citation.', 'this line has a shakespeare citation and a milton citation.', 'alphasectend', 'this line has a shakespeare citation and a shaks. citation.', 'this line has a milton citation, a locke citation, a dryden citation, and a milton citation']\n",
    "\n",
    "#EXPECTED RESULTS:\n",
    "#CSV A:\n",
    "## shakespeares = 2\n",
    "## miltons = 1\n",
    "\n",
    "#CSV B:\n",
    "# shakespeares = 2\n",
    "# miltons = 2\n",
    "# lockes = 1\n",
    "# drydens = 1"
   ]
  },
  {
   "cell_type": "code",
   "execution_count": null,
   "metadata": {},
   "outputs": [],
   "source": [
    "citations_dictionary = {\"A\":{}}\n",
    "\n",
    "\n",
    "for line in lines_list:\n",
    "    shakespeares = len(shak.findall(line)) + shakespeares\n",
    "    if (shak.search(line)):                #write to the dictionary with key-value pair {shakespeare:string}\n",
    "        citations_dictionary[\"A\"][line] = \"shakespeare\"\n",
    "    \n",
    "    \n",
    "            \n",
    "            \n",
    "    miltons = len(milton.findall(line)) + miltons\n",
    "        if milton.findall(line):                #write to the dictionary with key-value pair {milton:string}\n",
    "            \n",
    "        lockes = len(locke.findall(line)) + lockes\n",
    "        if locke.findall(line):                 #write to the dictionary with key-value pair {locke:string}\n",
    "            \n",
    "            \n",
    "        drydens = len(dryden.findall(line)) + drydens\n",
    "        if dryden.findall(line):                #write to the dictionary with key-value pair {dryden:string}"
   ]
  },
  {
   "cell_type": "code",
   "execution_count": null,
   "metadata": {},
   "outputs": [],
   "source": [
    "# dictionary of dictionaries:\n",
    "# key = alphabet section     #value = empty dictionary for author-string pairs\n",
    "alpha_dictionary = {\"A\":{}, \"B\":{}}\n",
    "\n",
    "import csv"
   ]
  },
  {
   "cell_type": "code",
   "execution_count": null,
   "metadata": {},
   "outputs": [],
   "source": [
    "#define regex patterns and author count variables\n",
    "\n",
    "import re\n",
    "\n",
    "shak = re.compile('shak[^i]')      #shakespeare pattern\n",
    "shakespeares = 0\n",
    "\n",
    "milton = re.compile('mil.')         #milton pattern\n",
    "miltons = 0\n",
    "\n",
    "locke = re.compile('loc.')        #locke pattern\n",
    "lockes = 0\n",
    "\n",
    "dryden = re.compile('dry[^i]')      #dryden pattern\n",
    "drydens = 0"
   ]
  }
 ],
 "metadata": {
  "kernelspec": {
   "display_name": "Python 3",
   "language": "python",
   "name": "python3"
  },
  "language_info": {
   "codemirror_mode": {
    "name": "ipython",
    "version": 3
   },
   "file_extension": ".py",
   "mimetype": "text/x-python",
   "name": "python",
   "nbconvert_exporter": "python",
   "pygments_lexer": "ipython3",
   "version": "3.7.1"
  }
 },
 "nbformat": 4,
 "nbformat_minor": 2
}
