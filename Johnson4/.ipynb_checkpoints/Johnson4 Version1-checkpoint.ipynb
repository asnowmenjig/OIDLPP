{
 "cells": [
  {
   "cell_type": "code",
   "execution_count": null,
   "metadata": {},
   "outputs": [],
   "source": [
    "#Johnson4_v1 notes:\n",
    "\n",
    "## page cutoff flag = [div class=\"page\"]\n",
    "\n",
    "##### alphabet sections for volume I ######\n",
    "\n",
    "#dictionary content starts on page 69, line 7341\n",
    "\n",
    "#A = pg 69\n",
    "#B = 206\n",
    "#C = 324\n",
    "#D = 545\n",
    "#E = 681\n",
    "#F = 772\n",
    "#G = 895\n",
    "#H = 973\n",
    "#I/J = 1053\n",
    "#K = 1162 - 1174\n",
    "\n",
    "#to read only dictionary content (no intro text), slice \"cleaned_lines_list[7340:]\""
   ]
  },
  {
   "cell_type": "code",
   "execution_count": 39,
   "metadata": {},
   "outputs": [],
   "source": [
    "#improved cleanline function                                 #from Johnson4_v1_split_alphasectend-retain-punct\n",
    "import string\n",
    "\n",
    "def clean_line(line_str):\n",
    "    cleanline = line_str.lower()\n",
    "    cleanline = cleanline.replace(\"°\", \"o\")\n",
    "    cleanline = cleanline.replace(\"º\", \"o\")\n",
    "    cleanline = cleanline.replace(\"×\", \"x\")\n",
    "    cleanline = cleanline.replace(\"à\", \"a\")\n",
    "    cleanline = cleanline.replace(\"á\", 'a')\n",
    "    cleanline = cleanline.replace('â', 'a')\n",
    "    cleanline = cleanline.replace('ä', 'a')\n",
    "    cleanline = cleanline.replace('ă', 'a')\n",
    "    cleanline = cleanline.replace('ã', 'a')\n",
    "    cleanline = cleanline.replace('å', 'a')\n",
    "    cleanline = cleanline.replace('ā', 'a')\n",
    "    cleanline = cleanline.replace('ą', 'a')\n",
    "    cleanline = cleanline.replace('ć', 'c')\n",
    "    cleanline = cleanline.replace('č', 'c')\n",
    "    cleanline = cleanline.replace('ç', 'c')\n",
    "    cleanline = cleanline.replace('è', 'e')\n",
    "    cleanline = cleanline.replace('é', 'e')\n",
    "    cleanline = cleanline.replace('ë', 'e')\n",
    "    cleanline = cleanline.replace('ē', 'e')\n",
    "    cleanline = cleanline.replace('ę', 'e')\n",
    "    cleanline = cleanline.replace('ê', 'e')\n",
    "    cleanline = cleanline.replace('ğ', 'g')\n",
    "    cleanline = cleanline.replace('í', 'i')\n",
    "    cleanline = cleanline.replace('ì', 'i')\n",
    "    cleanline = cleanline.replace('ń', 'n')\n",
    "    cleanline = cleanline.replace('ñ', 'n')\n",
    "    cleanline = cleanline.replace('ň', 'n')\n",
    "    cleanline = cleanline.replace('ó', 'o')\n",
    "    cleanline = cleanline.replace('ö', 'o')\n",
    "    cleanline = cleanline.replace('ð', 'o')\n",
    "    cleanline = cleanline.replace('ø', 'o')\n",
    "    cleanline = cleanline.replace('ò', 'o')\n",
    "    cleanline = cleanline.replace('ř', 'r')\n",
    "    cleanline = cleanline.replace('š', 's')\n",
    "    cleanline = cleanline.replace(\"ſ\", \"s\")\n",
    "    cleanline = cleanline.replace('ś', 's')\n",
    "    cleanline = cleanline.replace('ş', 's')\n",
    "    cleanline = cleanline.replace('ţ', 't')\n",
    "    cleanline = cleanline.replace('ü', 'u')\n",
    "    cleanline = cleanline.replace('ú', 'u')\n",
    "    cleanline = cleanline.replace('ū', 'u')\n",
    "    cleanline = cleanline.replace('ź', 'z')\n",
    "    cleanline = cleanline.replace('ż', 'z')\n",
    "    cleanline = cleanline.replace('ž', 'z')\n",
    "    return cleanline"
   ]
  },
  {
   "cell_type": "code",
   "execution_count": 40,
   "metadata": {},
   "outputs": [
    {
     "name": "stdout",
     "output_type": "stream",
     "text": [
      "success: split into lines\n"
     ]
    }
   ],
   "source": [
    "#open volume 1 of Johnson4                                 #from Johnson4_v1_split_alphasectend-retain-punct\n",
    "infile = open('Johnson4_v1.txt','r', encoding='utf-8')\n",
    "text = str(infile.read())\n",
    "infile.close()\n",
    "\n",
    "# split into lines                                 #from Johnson4_v1_split_alphasectend-retain-punct\n",
    "lines_list = text.split('\\n')\n",
    "print(\"success: split into lines\")\n",
    "\n",
    "#clean lines and add cleaned lines to a list        #from Johnson4_v1_split_alphasectend-retain-punct\n",
    "\n",
    "cleaned_lines_list = []\n",
    "for line in lines_list:\n",
    "    cleaned_line = clean_line(line)\n",
    "    cleaned_lines_list.append(cleaned_line)\n",
    "\n",
    "#final product: cleaned_lines_list"
   ]
  },
  {
   "cell_type": "code",
   "execution_count": 41,
   "metadata": {},
   "outputs": [],
   "source": [
    "# dictionary of dictionaries:\n",
    "# key = alphabet section     #value = empty dictionary for author-string pairs\n",
    "alpha_dictionary = {\"A\":{}, \"B\":{}, \"C\":{}, \"D\":{}, \"E\":{}, \"F\":{}, \"G\":{}, \"H\":{}, \"I\":{}, \"K\":{}}\n",
    "\n",
    "#dictionary of page numbers:\n",
    "pages = 0\n",
    "#key = alphabet section      #value = empty 'pages' variable\n",
    "page_counter = {\"A\": pages, \"B\": pages, \"C\": pages, \"D\": pages, \"E\": pages, \"F\": pages, \"G\": pages, \"H\": pages, \"I\": pages, \"K\": pages}\n",
    "\n",
    "import csv\n",
    "\n",
    "#define text outfile that will contain author citation counts\n",
    "outfile_total_count = open(\"volume1_counts.txt\", 'w', encoding=\"UTF-8\")"
   ]
  },
  {
   "cell_type": "code",
   "execution_count": 42,
   "metadata": {},
   "outputs": [],
   "source": [
    "#define current alphabet letter section\n",
    "alpha_sect = 65"
   ]
  },
  {
   "cell_type": "code",
   "execution_count": 43,
   "metadata": {},
   "outputs": [],
   "source": [
    "#define regex patterns\n",
    "\n",
    "import re\n",
    "\n",
    "shak = re.compile('shak[^i]')      #shakespeare pattern\n",
    "shakespeares = 0\n",
    "\n",
    "milton = re.compile('mil.')         #milton pattern\n",
    "miltons = 0\n",
    "\n",
    "locke = re.compile('loc.')        #locke pattern\n",
    "lockes = 0\n",
    "\n",
    "dryden = re.compile('dry[^i]')      #dryden pattern\n",
    "drydens = 0"
   ]
  },
  {
   "cell_type": "code",
   "execution_count": 44,
   "metadata": {},
   "outputs": [
    {
     "name": "stdout",
     "output_type": "stream",
     "text": [
      "Complete!\n"
     ]
    }
   ],
   "source": [
    "#for loop over words\n",
    "\n",
    "for line in cleaned_lines_list[7340:]:\n",
    "#    print(line)\n",
    "    if 'alphasectend' in line:\n",
    "        #print count results to text file\n",
    "        section_header = (\"ALPHABET SECTION: \" + str(chr(alpha_sect)))\n",
    "        page_counts_statement = (\"Page count = \" + str(page_counter[chr(alpha_sect)]))\n",
    "        shak_counts_statement = (\"Shakespeare citations = \" + str(shakespeares))\n",
    "        milton_counts_statement = (\"Milton citations = \" + str(miltons))\n",
    "        locke_counts_statement = (\"Locke citations = \" + str(lockes))\n",
    "        dryden_counts_statement = (\"Dryden citations = \" + str(drydens))\n",
    "        section_border = (\"- - - - - - - - - - - - -\")\n",
    "        \n",
    "        print(section_header, file=outfile_total_count)\n",
    "        print(page_counts_statement, file=outfile_total_count)\n",
    "        print(shak_counts_statement, file=outfile_total_count)\n",
    "        print(milton_counts_statement, file=outfile_total_count)\n",
    "        print(locke_counts_statement, file=outfile_total_count)\n",
    "        print(dryden_counts_statement, file=outfile_total_count)\n",
    "        print(section_border, file=outfile_total_count)\n",
    "\n",
    "        #redefine alpha_sect\n",
    "        if alpha_sect == 73:\n",
    "            alpha_sect = alpha_sect + 2\n",
    "        else:\n",
    "            alpha_sect = alpha_sect + 1\n",
    "            \n",
    "        #reset citation counts\n",
    "        shakespeares = 0\n",
    "        miltons = 0\n",
    "        lockes = 0\n",
    "        drydens = 0\n",
    "        \n",
    "    #adding to page count\n",
    "    elif 'div class=\"page\"' in line:\n",
    "        page_counter[chr(alpha_sect)] = page_counter[chr(alpha_sect)] + 1\n",
    "\n",
    "\n",
    "    #adding words and counts to dictionary\n",
    "    else:                                                   ## DICTIONARY COUNT ##\n",
    "        #identify whether any of the regex patterns are present in the string\n",
    "        shakespeares = len(shak.findall(line)) + shakespeares\n",
    "#        if (shak.findall(line)):                #write to the dictionary with key-value pair {shakespeare:string}\n",
    "#            alpha_dictionary[chr(alpha_sect)][line] = \"shakespeare\"\n",
    "        miltons = len(milton.findall(line)) + miltons\n",
    "#        if milton.findall(line):                #write to the dictionary with key-value pair {milton:string}\n",
    "        lockes = len(locke.findall(line)) + lockes\n",
    "#        if locke.findall(line):                 #write to the dictionary with key-value pair {locke:string}\n",
    "        drydens = len(dryden.findall(line)) + drydens\n",
    "#        if dryden.findall(line):                #write to the dictionary with key-value pair {dryden:string}\n",
    "\n",
    "outfile_total_count.close()\n",
    "\n",
    "print(\"Complete!\")"
   ]
  },
  {
   "cell_type": "code",
   "execution_count": null,
   "metadata": {},
   "outputs": [],
   "source": []
  }
 ],
 "metadata": {
  "kernelspec": {
   "display_name": "Python 3",
   "language": "python",
   "name": "python3"
  },
  "language_info": {
   "codemirror_mode": {
    "name": "ipython",
    "version": 3
   },
   "file_extension": ".py",
   "mimetype": "text/x-python",
   "name": "python",
   "nbconvert_exporter": "python",
   "pygments_lexer": "ipython3",
   "version": "3.7.1"
  }
 },
 "nbformat": 4,
 "nbformat_minor": 2
}
